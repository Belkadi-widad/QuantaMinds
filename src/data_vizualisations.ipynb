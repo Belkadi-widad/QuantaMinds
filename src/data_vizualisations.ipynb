{
 "cells": [
  {
   "cell_type": "code",
   "execution_count": 32,
   "metadata": {},
   "outputs": [],
   "source": [
    "from dataset_stats import *\n",
    "\n",
    "\n",
    "PATH_D_TRAIN=os.getcwd() + \"/data/DataTrain/input_tiles/\"\n",
    "PATH_S_TRAIN=os.getcwd()+\"/data/DataTrain/output_matrix/\"\n",
    "PATH_D_TEST=os.getcwd()+\"/data/DataTest/input_tiles/\"\n",
    "PATH_S_TEST=os.getcwd()+\"/data/DataTest/output_matrix/\"\n",
    "\n",
    "directory_train = PATH_D_TRAIN\n",
    "directory_test = PATH_D_TEST\n",
    "\n",
    "countries  =['Algérie ⵍⵣⵣⴰⵢⴻⵔ الجزائر', 'Türkmenistan', 'United States']\n",
    "\n",
    "stations_info_train = get_stations_all_infos_directory(directory_train)\n",
    "stations_info_test = get_stations_all_infos_directory(directory_test)\n",
    "\n",
    "\n"
   ]
  },
  {
   "cell_type": "markdown",
   "metadata": {},
   "source": [
    "## Map of the stations"
   ]
  },
  {
   "cell_type": "code",
   "execution_count": 66,
   "metadata": {},
   "outputs": [
    {
     "data": {
      "text/html": [
       "<div>\n",
       "<style scoped>\n",
       "    .dataframe tbody tr th:only-of-type {\n",
       "        vertical-align: middle;\n",
       "    }\n",
       "\n",
       "    .dataframe tbody tr th {\n",
       "        vertical-align: top;\n",
       "    }\n",
       "\n",
       "    .dataframe thead th {\n",
       "        text-align: right;\n",
       "    }\n",
       "</style>\n",
       "<table border=\"1\" class=\"dataframe\">\n",
       "  <thead>\n",
       "    <tr style=\"text-align: right;\">\n",
       "      <th></th>\n",
       "      <th>images_train</th>\n",
       "      <th>count_images_train</th>\n",
       "      <th>images_test</th>\n",
       "      <th>count_images_test</th>\n",
       "      <th>lat</th>\n",
       "      <th>lon</th>\n",
       "      <th>country</th>\n",
       "      <th>state</th>\n",
       "      <th>address</th>\n",
       "    </tr>\n",
       "  </thead>\n",
       "  <tbody>\n",
       "    <tr>\n",
       "      <th>32SKA</th>\n",
       "      <td>[S2A_MSIL1C_20171031T101141_N0206_R022_T32SKA_...</td>\n",
       "      <td>1270.0</td>\n",
       "      <td>[S2A_MSIL1C_20180429T101031_N0206_R022_T32SKA_...</td>\n",
       "      <td>26.0</td>\n",
       "      <td>31.596036</td>\n",
       "      <td>5.838411</td>\n",
       "      <td>Algérie ⵍⵣⵣⴰⵢⴻⵔ الجزائر</td>\n",
       "      <td>Ouargla</td>\n",
       "      <td>Hassi Messaoud ⵃⴰⵙⵉ ⵎⴻⵙⵄⵓⴷ حاسي مسعود, Daïra H...</td>\n",
       "    </tr>\n",
       "    <tr>\n",
       "      <th>31SES</th>\n",
       "      <td>[S2A_MSIL1C_20171106T103221_N0206_R108_T31SES_...</td>\n",
       "      <td>285.0</td>\n",
       "      <td>[S2A_MSIL1C_20180604T103021_N0206_R108_T31SES_...</td>\n",
       "      <td>11.0</td>\n",
       "      <td>32.537355</td>\n",
       "      <td>3.000000</td>\n",
       "      <td>Algérie ⵍⵣⵣⴰⵢⴻⵔ الجزائر</td>\n",
       "      <td>Ghardaïa</td>\n",
       "      <td>Metlili ⵎⴻⵜⵍⵉⵍⵉ متليلي, Daïra Metlili Châamba,...</td>\n",
       "    </tr>\n",
       "    <tr>\n",
       "      <th>32RLS</th>\n",
       "      <td>[S2A_MSIL1C_20171107T100221_N0206_R122_T32RLS_...</td>\n",
       "      <td>260.0</td>\n",
       "      <td>[S2A_MSIL1C_20171028T100121_N0206_R122_T32RLS_...</td>\n",
       "      <td>8.0</td>\n",
       "      <td>28.010200</td>\n",
       "      <td>6.965927</td>\n",
       "      <td>Algérie ⵍⵣⵣⴰⵢⴻⵔ الجزائر</td>\n",
       "      <td>Illizi</td>\n",
       "      <td>Bordj Omar Driss ⴱⵓⵔⴵ ⵄⵓⵎⴰⵔ ⴷⵔⵉⵙ برج عمر إدريس...</td>\n",
       "    </tr>\n",
       "    <tr>\n",
       "      <th>39SYD</th>\n",
       "      <td>[S2A_MSIL1C_20171116T071301_N0206_R106_T39SYD_...</td>\n",
       "      <td>120.0</td>\n",
       "      <td>[S2A_MSIL1C_20171116T071301_N0206_R106_T39SYD_...</td>\n",
       "      <td>10.0</td>\n",
       "      <td>38.826093</td>\n",
       "      <td>53.303925</td>\n",
       "      <td>Türkmenistan</td>\n",
       "      <td>Balkan welaýaty</td>\n",
       "      <td>Balkanabat şäheri, Balkan welaýaty, Türkmenistan</td>\n",
       "    </tr>\n",
       "    <tr>\n",
       "      <th>31SGR</th>\n",
       "      <td>[S2A_MSIL1C_20180422T102031_N0206_R065_T31SGR_...</td>\n",
       "      <td>475.0</td>\n",
       "      <td>[S2A_MSIL1C_20190703T101031_N0207_R022_T31SGR_...</td>\n",
       "      <td>15.0</td>\n",
       "      <td>31.617775</td>\n",
       "      <td>5.108486</td>\n",
       "      <td>Algérie ⵍⵣⵣⴰⵢⴻⵔ الجزائر</td>\n",
       "      <td>Ouargla</td>\n",
       "      <td>Rouissat ⵔⵡⵉⵙⴰⵜ الرويسات, Daïra Ouargla, Ouarg...</td>\n",
       "    </tr>\n",
       "  </tbody>\n",
       "</table>\n",
       "</div>"
      ],
      "text/plain": [
       "                                            images_train  count_images_train  \\\n",
       "32SKA  [S2A_MSIL1C_20171031T101141_N0206_R022_T32SKA_...              1270.0   \n",
       "31SES  [S2A_MSIL1C_20171106T103221_N0206_R108_T31SES_...               285.0   \n",
       "32RLS  [S2A_MSIL1C_20171107T100221_N0206_R122_T32RLS_...               260.0   \n",
       "39SYD  [S2A_MSIL1C_20171116T071301_N0206_R106_T39SYD_...               120.0   \n",
       "31SGR  [S2A_MSIL1C_20180422T102031_N0206_R065_T31SGR_...               475.0   \n",
       "\n",
       "                                             images_test  count_images_test  \\\n",
       "32SKA  [S2A_MSIL1C_20180429T101031_N0206_R022_T32SKA_...               26.0   \n",
       "31SES  [S2A_MSIL1C_20180604T103021_N0206_R108_T31SES_...               11.0   \n",
       "32RLS  [S2A_MSIL1C_20171028T100121_N0206_R122_T32RLS_...                8.0   \n",
       "39SYD  [S2A_MSIL1C_20171116T071301_N0206_R106_T39SYD_...               10.0   \n",
       "31SGR  [S2A_MSIL1C_20190703T101031_N0207_R022_T31SGR_...               15.0   \n",
       "\n",
       "             lat        lon                  country            state  \\\n",
       "32SKA  31.596036   5.838411  Algérie ⵍⵣⵣⴰⵢⴻⵔ الجزائر          Ouargla   \n",
       "31SES  32.537355   3.000000  Algérie ⵍⵣⵣⴰⵢⴻⵔ الجزائر         Ghardaïa   \n",
       "32RLS  28.010200   6.965927  Algérie ⵍⵣⵣⴰⵢⴻⵔ الجزائر           Illizi   \n",
       "39SYD  38.826093  53.303925             Türkmenistan  Balkan welaýaty   \n",
       "31SGR  31.617775   5.108486  Algérie ⵍⵣⵣⴰⵢⴻⵔ الجزائر          Ouargla   \n",
       "\n",
       "                                                 address  \n",
       "32SKA  Hassi Messaoud ⵃⴰⵙⵉ ⵎⴻⵙⵄⵓⴷ حاسي مسعود, Daïra H...  \n",
       "31SES  Metlili ⵎⴻⵜⵍⵉⵍⵉ متليلي, Daïra Metlili Châamba,...  \n",
       "32RLS  Bordj Omar Driss ⴱⵓⵔⴵ ⵄⵓⵎⴰⵔ ⴷⵔⵉⵙ برج عمر إدريس...  \n",
       "39SYD   Balkanabat şäheri, Balkan welaýaty, Türkmenistan  \n",
       "31SGR  Rouissat ⵔⵡⵉⵙⴰⵜ الرويسات, Daïra Ouargla, Ouarg...  "
      ]
     },
     "execution_count": 66,
     "metadata": {},
     "output_type": "execute_result"
    }
   ],
   "source": [
    "import folium\n",
    "from folium import plugins\n",
    "from folium.features import CustomIcon\n",
    "import pandas as pd\n",
    "\n",
    "# Example dictionary\n",
    "data = stations_info_train\n",
    "# Convert the dictionary to a DataFrame\n",
    "df_train = pd.DataFrame.from_dict(data, orient='index')\n",
    "new_column_names= {column: f'{column}_train' for column in df_train.columns}\n",
    "df_train = df_train[df_train['country'].isin(countries)]\n",
    "df_train = df_train.rename(columns=new_column_names)\n",
    "\n",
    "df_test = pd.DataFrame.from_dict(stations_info_test, orient='index')\n",
    "df_test = df_test[df_test['country'].isin(countries)]\n",
    "\n",
    "new_column_names= {column: f'{column}_test' for column in df_test.columns}\n",
    "\n",
    "df_test = df_test.rename(columns=new_column_names)\n",
    "\n",
    "df = pd.concat([df_train, df_test], axis=1)\n",
    "df['lat'] = df['lat_train'].combine_first(df['lat_test'])\n",
    "df['lon'] = df['lon_train'].combine_first(df['lon_test'])\n",
    "df['country'] = df['country_train'].combine_first(df['country_test'])\n",
    "df['state'] = df['state_train'].combine_first(df['state_test'])\n",
    "df['address'] = df['address_train'].combine_first(df['address_test'])\n",
    "df = df.drop(columns=['lat_train', 'lat_test', 'lon_train','lon_test', 'country_train', \n",
    "                              'country_test', 'state_train', 'state_test', 'address_train', 'address_test'  ])\n",
    "\n",
    "df.head(5)"
   ]
  },
  {
   "cell_type": "code",
   "execution_count": 64,
   "metadata": {},
   "outputs": [
    {
     "data": {
      "text/html": [
       "<div style=\"width:100%;\"><div style=\"position:relative;width:100%;height:0;padding-bottom:60%;\"><span style=\"color:#565656\">Make this Notebook Trusted to load map: File -> Trust Notebook</span><iframe srcdoc=\"&lt;!DOCTYPE html&gt;\n",
       "&lt;html&gt;\n",
       "&lt;head&gt;\n",
       "    \n",
       "    &lt;meta http-equiv=&quot;content-type&quot; content=&quot;text/html; charset=UTF-8&quot; /&gt;\n",
       "    \n",
       "        &lt;script&gt;\n",
       "            L_NO_TOUCH = false;\n",
       "            L_DISABLE_3D = false;\n",
       "        &lt;/script&gt;\n",
       "    \n",
       "    &lt;style&gt;html, body {width: 100%;height: 100%;margin: 0;padding: 0;}&lt;/style&gt;\n",
       "    &lt;style&gt;#map {position:absolute;top:0;bottom:0;right:0;left:0;}&lt;/style&gt;\n",
       "    &lt;script src=&quot;https://cdn.jsdelivr.net/npm/leaflet@1.9.3/dist/leaflet.js&quot;&gt;&lt;/script&gt;\n",
       "    &lt;script src=&quot;https://code.jquery.com/jquery-3.7.1.min.js&quot;&gt;&lt;/script&gt;\n",
       "    &lt;script src=&quot;https://cdn.jsdelivr.net/npm/bootstrap@5.2.2/dist/js/bootstrap.bundle.min.js&quot;&gt;&lt;/script&gt;\n",
       "    &lt;script src=&quot;https://cdnjs.cloudflare.com/ajax/libs/Leaflet.awesome-markers/2.0.2/leaflet.awesome-markers.js&quot;&gt;&lt;/script&gt;\n",
       "    &lt;link rel=&quot;stylesheet&quot; href=&quot;https://cdn.jsdelivr.net/npm/leaflet@1.9.3/dist/leaflet.css&quot;/&gt;\n",
       "    &lt;link rel=&quot;stylesheet&quot; href=&quot;https://cdn.jsdelivr.net/npm/bootstrap@5.2.2/dist/css/bootstrap.min.css&quot;/&gt;\n",
       "    &lt;link rel=&quot;stylesheet&quot; href=&quot;https://netdna.bootstrapcdn.com/bootstrap/3.0.0/css/bootstrap-glyphicons.css&quot;/&gt;\n",
       "    &lt;link rel=&quot;stylesheet&quot; href=&quot;https://cdn.jsdelivr.net/npm/@fortawesome/fontawesome-free@6.2.0/css/all.min.css&quot;/&gt;\n",
       "    &lt;link rel=&quot;stylesheet&quot; href=&quot;https://cdnjs.cloudflare.com/ajax/libs/Leaflet.awesome-markers/2.0.2/leaflet.awesome-markers.css&quot;/&gt;\n",
       "    &lt;link rel=&quot;stylesheet&quot; href=&quot;https://cdn.jsdelivr.net/gh/python-visualization/folium/folium/templates/leaflet.awesome.rotate.min.css&quot;/&gt;\n",
       "    \n",
       "            &lt;meta name=&quot;viewport&quot; content=&quot;width=device-width,\n",
       "                initial-scale=1.0, maximum-scale=1.0, user-scalable=no&quot; /&gt;\n",
       "            &lt;style&gt;\n",
       "                #map_d071a997681cd3e688b1e5b13909ebbf {\n",
       "                    position: relative;\n",
       "                    width: 100.0%;\n",
       "                    height: 100.0%;\n",
       "                    left: 0.0%;\n",
       "                    top: 0.0%;\n",
       "                }\n",
       "                .leaflet-container { font-size: 1rem; }\n",
       "            &lt;/style&gt;\n",
       "        \n",
       "    &lt;script src=&quot;https://cdnjs.cloudflare.com/ajax/libs/leaflet.markercluster/1.1.0/leaflet.markercluster.js&quot;&gt;&lt;/script&gt;\n",
       "    &lt;link rel=&quot;stylesheet&quot; href=&quot;https://cdnjs.cloudflare.com/ajax/libs/leaflet.markercluster/1.1.0/MarkerCluster.css&quot;/&gt;\n",
       "    &lt;link rel=&quot;stylesheet&quot; href=&quot;https://cdnjs.cloudflare.com/ajax/libs/leaflet.markercluster/1.1.0/MarkerCluster.Default.css&quot;/&gt;\n",
       "&lt;/head&gt;\n",
       "&lt;body&gt;\n",
       "    \n",
       "    \n",
       "            &lt;div class=&quot;folium-map&quot; id=&quot;map_d071a997681cd3e688b1e5b13909ebbf&quot; &gt;&lt;/div&gt;\n",
       "        \n",
       "&lt;/body&gt;\n",
       "&lt;script&gt;\n",
       "    \n",
       "    \n",
       "            var map_d071a997681cd3e688b1e5b13909ebbf = L.map(\n",
       "                &quot;map_d071a997681cd3e688b1e5b13909ebbf&quot;,\n",
       "                {\n",
       "                    center: [31.59603567113855, 5.83841112451701],\n",
       "                    crs: L.CRS.EPSG3857,\n",
       "                    zoom: 2,\n",
       "                    zoomControl: true,\n",
       "                    preferCanvas: false,\n",
       "                }\n",
       "            );\n",
       "\n",
       "            \n",
       "\n",
       "        \n",
       "    \n",
       "            var tile_layer_177fec9cbd11731762eba0b58b4d4b5a = L.tileLayer(\n",
       "                &quot;https://tile.openstreetmap.org/{z}/{x}/{y}.png&quot;,\n",
       "                {&quot;attribution&quot;: &quot;\\u0026copy; \\u003ca href=\\&quot;https://www.openstreetmap.org/copyright\\&quot;\\u003eOpenStreetMap\\u003c/a\\u003e contributors&quot;, &quot;detectRetina&quot;: false, &quot;maxNativeZoom&quot;: 19, &quot;maxZoom&quot;: 19, &quot;minZoom&quot;: 0, &quot;noWrap&quot;: false, &quot;opacity&quot;: 1, &quot;subdomains&quot;: &quot;abc&quot;, &quot;tms&quot;: false}\n",
       "            );\n",
       "        \n",
       "    \n",
       "            tile_layer_177fec9cbd11731762eba0b58b4d4b5a.addTo(map_d071a997681cd3e688b1e5b13909ebbf);\n",
       "        \n",
       "    \n",
       "            var marker_cluster_190bfa964b824896b1cc821a445303ce = L.markerClusterGroup(\n",
       "                {}\n",
       "            );\n",
       "        \n",
       "    \n",
       "            var marker_0a06f1a96531002e79f497124d6d494e = L.marker(\n",
       "                [31.59603567113855, 5.83841112451701],\n",
       "                {}\n",
       "            ).addTo(marker_cluster_190bfa964b824896b1cc821a445303ce);\n",
       "        \n",
       "    \n",
       "        var custom_icon_70d9429171ebf0d3d93fef53943c4faf = L.icon({&quot;iconAnchor&quot;: [10, 30], &quot;iconSize&quot;: [32, 32], &quot;iconUrl&quot;: &quot;data:image/png;base64,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&quot;});\n",
       "        marker_0a06f1a96531002e79f497124d6d494e.setIcon(custom_icon_70d9429171ebf0d3d93fef53943c4faf);\n",
       "        \n",
       "    \n",
       "        var popup_d44eac05e877b849d0931c170df9e389 = L.popup({&quot;height&quot;: 150, &quot;maxWidth&quot;: 200, &quot;minWidth&quot;: 200});\n",
       "\n",
       "        \n",
       "            \n",
       "                var i_frame_2dbbc793132b4a13d5b85e52c45f015b = $(`&lt;div style=&quot;width:100%;&quot;&gt;&lt;div style=&quot;position:relative;width:100%;height:0;padding-bottom:60%;&quot;&gt;&lt;iframe src=&quot;data:text/html;charset=utf-8;base64,CiAgICBTdGF0aW9uIzozMlNLQTxicj5TdGF0ZTogT3VhcmdsYTxicj5OdW1iZXIgaW1hZ2VzIFRyYWluOiAxMjcwLjA8YnI+TnVtYmVyIGltYWdlcyBUZXN0OiAyNi4w&quot; style=&quot;position:absolute;width:100%;height:100%;left:0;top:0;border:none !important;&quot;&gt;&lt;/iframe&gt;&lt;/div&gt;&lt;/div&gt;`)[0];\n",
       "                popup_d44eac05e877b849d0931c170df9e389.setContent(i_frame_2dbbc793132b4a13d5b85e52c45f015b);\n",
       "            \n",
       "        \n",
       "\n",
       "        marker_0a06f1a96531002e79f497124d6d494e.bindPopup(popup_d44eac05e877b849d0931c170df9e389)\n",
       "        ;\n",
       "\n",
       "        \n",
       "    \n",
       "    \n",
       "            var marker_1300fd66a1f30e331722953f3c59c8b2 = L.marker(\n",
       "                [32.53735523621132, 3.0],\n",
       "                {}\n",
       "            ).addTo(marker_cluster_190bfa964b824896b1cc821a445303ce);\n",
       "        \n",
       "    \n",
       "        var custom_icon_1ef31d8260bf909e1c887f656407c8e5 = L.icon({&quot;iconAnchor&quot;: [10, 30], &quot;iconSize&quot;: [32, 32], &quot;iconUrl&quot;: &quot;data:image/png;base64,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&quot;});\n",
       "        marker_1300fd66a1f30e331722953f3c59c8b2.setIcon(custom_icon_1ef31d8260bf909e1c887f656407c8e5);\n",
       "        \n",
       "    \n",
       "        var popup_a648995cbc91cde1823ad7f32229f84a = L.popup({&quot;height&quot;: 150, &quot;maxWidth&quot;: 200, &quot;minWidth&quot;: 200});\n",
       "\n",
       "        \n",
       "            \n",
       "                var i_frame_41754caf69159fe2c29ffaeb4813ce72 = $(`&lt;div style=&quot;width:100%;&quot;&gt;&lt;div style=&quot;position:relative;width:100%;height:0;padding-bottom:60%;&quot;&gt;&lt;iframe src=&quot;data:text/html;charset=utf-8;base64,CiAgICBTdGF0aW9uIzozMVNFUzxicj5TdGF0ZTogR2hhcmRhw69hPGJyPk51bWJlciBpbWFnZXMgVHJhaW46IDI4NS4wPGJyPk51bWJlciBpbWFnZXMgVGVzdDogMTEuMA==&quot; style=&quot;position:absolute;width:100%;height:100%;left:0;top:0;border:none !important;&quot;&gt;&lt;/iframe&gt;&lt;/div&gt;&lt;/div&gt;`)[0];\n",
       "                popup_a648995cbc91cde1823ad7f32229f84a.setContent(i_frame_41754caf69159fe2c29ffaeb4813ce72);\n",
       "            \n",
       "        \n",
       "\n",
       "        marker_1300fd66a1f30e331722953f3c59c8b2.bindPopup(popup_a648995cbc91cde1823ad7f32229f84a)\n",
       "        ;\n",
       "\n",
       "        \n",
       "    \n",
       "    \n",
       "            var marker_63d3e31d9ee7b72334a1e8919bb36adb = L.marker(\n",
       "                [28.010200245941192, 6.9659270347472475],\n",
       "                {}\n",
       "            ).addTo(marker_cluster_190bfa964b824896b1cc821a445303ce);\n",
       "        \n",
       "    \n",
       "        var custom_icon_3377867d24ec00fb689b236257006807 = L.icon({&quot;iconAnchor&quot;: [10, 30], &quot;iconSize&quot;: [32, 32], &quot;iconUrl&quot;: &quot;data:image/png;base64,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&quot;});\n",
       "        marker_63d3e31d9ee7b72334a1e8919bb36adb.setIcon(custom_icon_3377867d24ec00fb689b236257006807);\n",
       "        \n",
       "    \n",
       "        var popup_bf9d26eb3abaa33d548436506272afaa = L.popup({&quot;height&quot;: 150, &quot;maxWidth&quot;: 200, &quot;minWidth&quot;: 200});\n",
       "\n",
       "        \n",
       "            \n",
       "                var i_frame_8a041f6c5947b65febeabbda693e7f56 = $(`&lt;div style=&quot;width:100%;&quot;&gt;&lt;div style=&quot;position:relative;width:100%;height:0;padding-bottom:60%;&quot;&gt;&lt;iframe src=&quot;data:text/html;charset=utf-8;base64,CiAgICBTdGF0aW9uIzozMlJMUzxicj5TdGF0ZTogSWxsaXppPGJyPk51bWJlciBpbWFnZXMgVHJhaW46IDI2MC4wPGJyPk51bWJlciBpbWFnZXMgVGVzdDogOC4w&quot; style=&quot;position:absolute;width:100%;height:100%;left:0;top:0;border:none !important;&quot;&gt;&lt;/iframe&gt;&lt;/div&gt;&lt;/div&gt;`)[0];\n",
       "                popup_bf9d26eb3abaa33d548436506272afaa.setContent(i_frame_8a041f6c5947b65febeabbda693e7f56);\n",
       "            \n",
       "        \n",
       "\n",
       "        marker_63d3e31d9ee7b72334a1e8919bb36adb.bindPopup(popup_bf9d26eb3abaa33d548436506272afaa)\n",
       "        ;\n",
       "\n",
       "        \n",
       "    \n",
       "    \n",
       "            var marker_c45bf1b035fc16bd0a8eb764b15c4626 = L.marker(\n",
       "                [38.82609253750627, 53.30392503562567],\n",
       "                {}\n",
       "            ).addTo(marker_cluster_190bfa964b824896b1cc821a445303ce);\n",
       "        \n",
       "    \n",
       "        var custom_icon_9fd5df078526413413861ad5b230ba20 = L.icon({&quot;iconAnchor&quot;: [10, 30], &quot;iconSize&quot;: [32, 32], &quot;iconUrl&quot;: &quot;data:image/png;base64,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&quot;});\n",
       "        marker_c45bf1b035fc16bd0a8eb764b15c4626.setIcon(custom_icon_9fd5df078526413413861ad5b230ba20);\n",
       "        \n",
       "    \n",
       "        var popup_2b99dea40c5e84deb4cc4c27f84ade3f = L.popup({&quot;height&quot;: 150, &quot;maxWidth&quot;: 200, &quot;minWidth&quot;: 200});\n",
       "\n",
       "        \n",
       "            \n",
       "                var i_frame_d11ef0c168ddd316547f488c87030c71 = $(`&lt;div style=&quot;width:100%;&quot;&gt;&lt;div style=&quot;position:relative;width:100%;height:0;padding-bottom:60%;&quot;&gt;&lt;iframe src=&quot;data:text/html;charset=utf-8;base64,CiAgICBTdGF0aW9uIzozOVNZRDxicj5TdGF0ZTogQmFsa2FuIHdlbGHDvWF0eTxicj5OdW1iZXIgaW1hZ2VzIFRyYWluOiAxMjAuMDxicj5OdW1iZXIgaW1hZ2VzIFRlc3Q6IDEwLjA=&quot; style=&quot;position:absolute;width:100%;height:100%;left:0;top:0;border:none !important;&quot;&gt;&lt;/iframe&gt;&lt;/div&gt;&lt;/div&gt;`)[0];\n",
       "                popup_2b99dea40c5e84deb4cc4c27f84ade3f.setContent(i_frame_d11ef0c168ddd316547f488c87030c71);\n",
       "            \n",
       "        \n",
       "\n",
       "        marker_c45bf1b035fc16bd0a8eb764b15c4626.bindPopup(popup_2b99dea40c5e84deb4cc4c27f84ade3f)\n",
       "        ;\n",
       "\n",
       "        \n",
       "    \n",
       "    \n",
       "            var marker_5dd3aa4e4ea7e8d86191c77575775ff0 = L.marker(\n",
       "                [31.617775075405053, 5.108485897793236],\n",
       "                {}\n",
       "            ).addTo(marker_cluster_190bfa964b824896b1cc821a445303ce);\n",
       "        \n",
       "    \n",
       "        var custom_icon_ed65d068bb4929db2c42740cd828407f = L.icon({&quot;iconAnchor&quot;: [10, 30], &quot;iconSize&quot;: [32, 32], &quot;iconUrl&quot;: &quot;data:image/png;base64,iVBORw0KGgoAAAANSUhEUgAAAEAAAABACAYAAACqaXHeAAAABHNCSVQICAgIfAhkiAAAAAlwSFlzAAAB2AAAAdgB+lymcgAAABl0RVh0U29mdHdhcmUAd3d3Lmlua3NjYXBlLm9yZ5vuPBoAAA4oSURBVHic5Zt5dFR1lsc/r9YskKokBEIgLBIgAbKxCNhARBsQpwWXEdFpG5dWBxva1sPpI+PMeJzunjOjjuPoNAdt29buBppFgWZpQbBBRJFmD6uJgRBIUhCyVyVV9d77zR+vktTyXlUCFGO333PeOfn9fvd33+936977u/e+X+DGwgb8K1AGyIDQeWqAt4DUG7Eg6Ua8JAgfAPeaTCYy+2dhtphDBhVFxVVTjaIoAJ8At8d7QfEWQCEwPPCewcArQ4fl8Js1H9A/a4DuhNrqWv5xwUOcOn4MoAT4NJ4LNIW1ncBsNMk7r4FvErAVOAKsBdYArwA8vvBHhpsHyOjXl/vmP9zRLL6GNXQLlqC/H5Yk6X+FECkAkiS5hRBLgOVXwfd5YHbWwIHMmP09bHYbAE5nKnfdd3/UiaoQXHLVdDSbruLdPUKHCUwHdlosFmbPuVtSVcH2rZvw+3wC+Hvgwx4xlaTKFIcje9veL6XUtPSotDXVFzl68IDWEHDq5Cnee3sZXm+7V6hqDnChp5vqCTo04GeA9MavfsPtd8xGCPho8xx+8uQCCfgp8OeweQrQHIVv5pCbhsXcvNcn88j993Ku4uvwIRV4jjhvHroEMNJut3PbrDsAkCSYMn06ffr2o+6SayJQrzO3DHgW2KIzdubEsaP5x48eYUxhke6LhYCtGzZ0bP5rYF1gqAnYBBy/2k31BB0mcAgo3rJ7LzkjRnYOvrt8GZvXfxAxqaW5hfPnKpAkSRZCFACnwkgeBn5rtVrFhMm3SN8pmc6jTy3EbDbT5vGw/I3/5svPP+fowb+gCiEQYg6wOT5b7B4WA2Jg9iD1P9/4pThSUSXO1NQZPqcuXhbPLn2xI3B5R4efBCxFMxMBiH975TVx/HyteOjRH3YGPZIkXQDm3aA9RoUZeJ/Awu6b/1BUAZypqRN7Dp8WkiQJ4PMofG3AY4B4cMGj4lD5BTFu4uQOAUzhxgdiEeiIAxRgAfBdwL975w7cra2Gk4SAivJyhBAAl6Lw9wHV2hyBEHTMAbiIJoj/V5jD2meBER6Pu2Dn9o9wt7SQmJxMRt9+nQR7d+9i3aqVvP7yz/G43QAvEd1hJQBP+3w+UlKcbFm/Dm97uwy8gJYPfOOQjObZBSBMJpP4/fpN4uSFS+LZ5/85PHF5l9hqbAI+Dpv3y3gt/npiAvAmIJ5Y9GNxsKxKFIwd37GBJfQsTLUBjwC/AO7hG2D7HbBEGfsLkA0skv0yApDlTo39HeDqwXt8wHtXs8B4IzwZCkcjwIXzlTTWX6G+7jJoUVpLvBf2TUFvSZKqCbXfrd2ca0ZLZeujPO9f7wXHA3nASmAf8DqQ1s152YCwmkzCabNrj9UuHBarcFiswoQkAHec1txtxNMZFQBH78gawu++MxsA4Zfxuy4DMPXwDiraW0E7Jr1xWsNkID/K+L5oTvBakQrgtNk7OyRTl8txWKzBdLVxeH8WsBuwGhFIEo1GAkgASoGcRLN5bc0DTz7V3ias93664c4vrtQuF2AHVgPzoywgFcBh7RIA5i6Fc1pswXTxEMBcwFoyKZtJxYEKlKpAq6aByzdcoMktO40EMATISbJYeS5v3P1+P/dLio8XskbyE4+bivZWFCG+G2MBERoAkpZrCxGuAfHA3QA/XzKNKRMGaj2yD6pLAVi900WTWzaMA1IBZvUfzDO5WrwjmUwU9UplV9HtTDi4jWpfm1PbkWE8nwZwurme31ac7OxUmloQqkqtry2E7jrDCUzv1yeZW8YZ1x/BOBBKA0i1JXT1SKH2W+1rMwMpGNft0gA2Vn3NxqqIik8w4qEBdwHWuTOHYzJF9/NGAnACpNhsXT1BDizIftMwFoATYN73chmaHVRgdl8Bxc/BM83sOFAP8RHAXIC5M3NiEkY1Aac12INLnQrvDLXfs9F4PPPY+FA1vFwObU28u6XaSABFwJNEZqo9wWyANZtPs3F7eVevqoBHq+5dafYBPTEBQMKEQMUR6sGNkAqQ6gjlgUl7ZVqKoRN8HnggCt9u4/11scuKUTVg6ZHPePFYV8FHqFo03KYqIXTReEQKQPthU3tbQuiCYAN4Zew0hvZyRF99T6GoyA2NACwuO8Blvze6AMx2CcnS5UQkVQXA7KMjdospgNk/WIPZHJRzKX5Q/LjbowtxXHo/8p19Yuyoh5AVfKqmeQmBHyKqCXz2wfcpyMvo6r30FbS3sGz9BX702mmILoB0gCMno1XMiMUj7oh6Cjgd9tDegP1GUd8OSIAjMzGZPTNDzVlta0dpaMKjyow/uC0aj060KTK7XFX4Axp4NShO60u2LSmiP6oGpBnYb5ADMwpiUgBLmi0hLBIEVQXZ4sGBFatkwi/UmIHQr8pK+VnpvlhkUVGQmsHOW++J6DfUAIvZhM+v0tDU3tXbqkKLH3NXcGH06zkBHGGbB0LiCYfFSp3fG1MDmv2aw5kzI4e8nJ75BUVRefXt/Xhkv+64kQDSZUUlvfB/YvE3WnzgGI0UQHhGWOf3JqAlX+0RxGF4cM4o5s/Ji0UWAq9P4dW39xuO6wkgAUhIMFsYmRK2P1VFyAoKghPuJoihASlWHQFIXafKmGQn1d62y22q0q3y+D+9vDvqZvQQ9B1CF3oCSAUY7Ujno9vvDRlQ29qRrzQgC8GQfRsRV6EBIkgDlg0fT6vd9tLIXWuiCmCMsw8ScLaqibNVV3dlYHx6P91+PQGkQXgaG0Dg17NIEr3MFloU2ciBGZuAhOYHAh69l9XaN8bauTs7h5n9B+O7ylNAkgJ1CVmJGDPUAD0BhNqvjRZFTkGL2cM5a8UQPSGimYEAmmU/e2orC4BngHGBJ1dvjluW8SiRjizdnkivQG6iCkGVJ7JgLaGZo15eqCcALQbQE4A5OCO0csGLCXAQeX9AOwWCfECVp4XShjpKG+s46qrmREsD1VpN4O7AA4DVasHvD7WI1ZVnWLz/E93CQ7LFyt5Z8xmQ1It5ezaz26V/p2Jm/8GsmDQrot9QAxw6DkwE5dYpoRlhsADMwACAD8+XsfLsaUob62jwhTp5i8XM6FEjKC4aRXFhLsVj+lJcmMNjC19m/abPQmjLmhsQwNBsB2nOxM7+ivONNDS1U9vuZkBSL0431SNJMHZMZteaheDQcRcVrfq+o2cmEPQdJbUrI5yCdseoOPAUoH1fZHtNJQCJiQncPKGQosJRjC0aQ3HRaPLHjCQxMRBoCR/4L+ouMBj//tOSkGNw/qI/snpT6N0Mm9XMgc0LOtten0LC8FcNeXZbAC1+H8cb6zhSe5bS1kb2N1/pGHovmM7pSKGocBTFRaM7n9yRN2GxXHsB+p0/HOXPX5zvbB84VhNBIysqTy3d1tlWlOiO0/AUCDaBDVXlLNy/EznMC2f17xfY5KjOTd80dFC3NtMTpNk1td+5t5KdeytDxiSgT2A83Z6Iq93D2yuPRPBItydG9EE3NeBw/SVkVaVk2kRmzZjW+cv263ud01UDPD5sDMN6OfCqkcfY4OQUBienALB66t+x/0pkhV0CJmdk6fI21IDwahDA4qcXcN89szvbPp+fCxe71DAt1YnTqS2moaGJhsYux5M9MAurVXvdxepavF6tJGW1WskeEP06nd1sZlbWkKg0AJmJycwZOMyYoJtxQCCRsSELlfKWRs659a8E3jpjPl/sO9TZTkiwc/arPciyQk5eSecmAUqmTWTXx3/gnXdX88TC50P4vPbyUp5dOMNw3fvrally6FPdhGZQcm9WTLmTRLOF/zixn3WVZRE0kgQ/uGkUi4cVRIwFCyANrSA5CODBPVspb23Ep3RJzeFICZlc/vU5zGaJ6ZMHU3r6Mq46N1VVNfj9frxeH5kZyYwZmcEnn1dSVnaucw5Afm4GFrOJwydclJWfM9w8wPaac5xquqI7Vulu5lRTPWPT+vL7ilO42j26dCvPnjYUwKtoRciBwQMnm66QnuakqHA0Bfm5TLy5iNtunRzBIMFu4eMVDzDv6Y2s3XI6ZOy2Wwaz4o27sOdEHkMvLJpMSm87dy5Yq79rHax6c47uMSiCQiS7zUx72ZLOdneOwedMJpOUl5tDQX4uhQV5FOTnUpCfy4CsTMOJHfC0+Rk29S1cdZFfuv+4o5xhU9/Cr2N7P35xR8yPFuH48kg15qDvi1XVkaapqiLkh/DLsY9BaVB2FscPb4tKqIeSqRNZ9+GfqDivVVqHDslmxPChKIpCZr8Mal2XaXVrfmDWzGkATJ40FpvNyqUrmqomJNiZNmVC1PfYApWo1399gNd/fSBiPCFQqrOZzfjbVeY9vdGQRziuKTpZu2qZ4VjNef28fe5dM/C2fBXaGSMS/IehefhVFVUnG+ibkMQop3aK/NfYEj67rM/n9kz9+CSe9wOuGwYk9eKF/Ikx6aZnZjM9M9uYoJvHIOerqnnk8SU0txjfFr1esFotvPQvi5hZMrTbcxQh+NPFs9T79KtoFsnErKzBhtFfCK1ep8tVx569+5F1JHa9YTKZOF9VA3RfALtcVTz6RXSfNX/ISN6ccFtMXroCmDC+gKbLpSGBTLxgtVrplWzpVjbYgSafViUeNeFmiqZMDRmrq61l+6oVtMUoM/azJVDta6s19AFJSYkkJcVWoesCcXWCHlFYxJzHngjpKy89xvZVK2LOfS93Els9jbNjXZT8m0Wqxcb3B+c1/FWcAvFAldfDa8dPDv/WCuCHZ77kpKd57bfWBJpkP6oQzm+tADogAcJiMTMoO/p1svhCgNCOLdelBtyedvonJhvG727ZT523jeTeKSQ7Qm+RyD4f9ZdcJFmsZOgFQoH0/qLXgxz4bLYL/X9j/zY8H/0f2l9mt847LzUAAAAASUVORK5CYII=&quot;});\n",
       "        marker_5dd3aa4e4ea7e8d86191c77575775ff0.setIcon(custom_icon_ed65d068bb4929db2c42740cd828407f);\n",
       "        \n",
       "    \n",
       "        var popup_3a98c53fc11ef4edbcb909a5e518fce7 = L.popup({&quot;height&quot;: 150, &quot;maxWidth&quot;: 200, &quot;minWidth&quot;: 200});\n",
       "\n",
       "        \n",
       "            \n",
       "                var i_frame_e10a6fd2f6f82002e892e04d5a83c681 = $(`&lt;div style=&quot;width:100%;&quot;&gt;&lt;div style=&quot;position:relative;width:100%;height:0;padding-bottom:60%;&quot;&gt;&lt;iframe src=&quot;data:text/html;charset=utf-8;base64,CiAgICBTdGF0aW9uIzozMVNHUjxicj5TdGF0ZTogT3VhcmdsYTxicj5OdW1iZXIgaW1hZ2VzIFRyYWluOiA0NzUuMDxicj5OdW1iZXIgaW1hZ2VzIFRlc3Q6IDE1LjA=&quot; style=&quot;position:absolute;width:100%;height:100%;left:0;top:0;border:none !important;&quot;&gt;&lt;/iframe&gt;&lt;/div&gt;&lt;/div&gt;`)[0];\n",
       "                popup_3a98c53fc11ef4edbcb909a5e518fce7.setContent(i_frame_e10a6fd2f6f82002e892e04d5a83c681);\n",
       "            \n",
       "        \n",
       "\n",
       "        marker_5dd3aa4e4ea7e8d86191c77575775ff0.bindPopup(popup_3a98c53fc11ef4edbcb909a5e518fce7)\n",
       "        ;\n",
       "\n",
       "        \n",
       "    \n",
       "    \n",
       "            var marker_f468baf552c24c64ed4afc65bdf6192c = L.marker(\n",
       "                [31.59603567113855, -102.16158887548299],\n",
       "                {}\n",
       "            ).addTo(marker_cluster_190bfa964b824896b1cc821a445303ce);\n",
       "        \n",
       "    \n",
       "        var custom_icon_bfe3ddc187c697585c179243fe094c91 = L.icon({&quot;iconAnchor&quot;: [10, 30], &quot;iconSize&quot;: [32, 32], &quot;iconUrl&quot;: &quot;data:image/png;base64,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&quot;});\n",
       "        marker_f468baf552c24c64ed4afc65bdf6192c.setIcon(custom_icon_bfe3ddc187c697585c179243fe094c91);\n",
       "        \n",
       "    \n",
       "        var popup_c82e16d38b750114fac88e61162cae3e = L.popup({&quot;height&quot;: 150, &quot;maxWidth&quot;: 200, &quot;minWidth&quot;: 200});\n",
       "\n",
       "        \n",
       "            \n",
       "                var i_frame_3c82398c7a1caf458d3ba185e2078b81 = $(`&lt;div style=&quot;width:100%;&quot;&gt;&lt;div style=&quot;position:relative;width:100%;height:0;padding-bottom:60%;&quot;&gt;&lt;iframe src=&quot;data:text/html;charset=utf-8;base64,CiAgICBTdGF0aW9uIzoxNFNLQTxicj5TdGF0ZTogVGV4YXM8YnI+TnVtYmVyIGltYWdlcyBUcmFpbjogMTM1LjA8YnI+TnVtYmVyIGltYWdlcyBUZXN0OiA1LjA=&quot; style=&quot;position:absolute;width:100%;height:100%;left:0;top:0;border:none !important;&quot;&gt;&lt;/iframe&gt;&lt;/div&gt;&lt;/div&gt;`)[0];\n",
       "                popup_c82e16d38b750114fac88e61162cae3e.setContent(i_frame_3c82398c7a1caf458d3ba185e2078b81);\n",
       "            \n",
       "        \n",
       "\n",
       "        marker_f468baf552c24c64ed4afc65bdf6192c.bindPopup(popup_c82e16d38b750114fac88e61162cae3e)\n",
       "        ;\n",
       "\n",
       "        \n",
       "    \n",
       "    \n",
       "            var marker_4069f72cb6500a40b8dae7df93581732 = L.marker(\n",
       "                [37.89810637710265, 53.588254600035214],\n",
       "                {}\n",
       "            ).addTo(marker_cluster_190bfa964b824896b1cc821a445303ce);\n",
       "        \n",
       "    \n",
       "        var custom_icon_bebfbdefde16652391d742b54d17e845 = L.icon({&quot;iconAnchor&quot;: [10, 30], &quot;iconSize&quot;: [32, 32], &quot;iconUrl&quot;: &quot;data:image/png;base64,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&quot;});\n",
       "        marker_4069f72cb6500a40b8dae7df93581732.setIcon(custom_icon_bebfbdefde16652391d742b54d17e845);\n",
       "        \n",
       "    \n",
       "        var popup_cc1d0ee231774c0dfd97138279100cd5 = L.popup({&quot;height&quot;: 150, &quot;maxWidth&quot;: 200, &quot;minWidth&quot;: 200});\n",
       "\n",
       "        \n",
       "            \n",
       "                var i_frame_1de54b608155160e4193d419a888381e = $(`&lt;div style=&quot;width:100%;&quot;&gt;&lt;div style=&quot;position:relative;width:100%;height:0;padding-bottom:60%;&quot;&gt;&lt;iframe src=&quot;data:text/html;charset=utf-8;base64,CiAgICBTdGF0aW9uIzo0MFNCSDxicj5TdGF0ZTogQmFsa2FuIHdlbGHDvWF0eTxicj5OdW1iZXIgaW1hZ2VzIFRyYWluOiAzMzAuMDxicj5OdW1iZXIgaW1hZ2VzIFRlc3Q6IDE0LjA=&quot; style=&quot;position:absolute;width:100%;height:100%;left:0;top:0;border:none !important;&quot;&gt;&lt;/iframe&gt;&lt;/div&gt;&lt;/div&gt;`)[0];\n",
       "                popup_cc1d0ee231774c0dfd97138279100cd5.setContent(i_frame_1de54b608155160e4193d419a888381e);\n",
       "            \n",
       "        \n",
       "\n",
       "        marker_4069f72cb6500a40b8dae7df93581732.bindPopup(popup_cc1d0ee231774c0dfd97138279100cd5)\n",
       "        ;\n",
       "\n",
       "        \n",
       "    \n",
       "    \n",
       "            var marker_cfe8e7ad4c8ea443b43dbdd96510e3b3 = L.marker(\n",
       "                [37.942085319765845, 64.13807393193166],\n",
       "                {}\n",
       "            ).addTo(marker_cluster_190bfa964b824896b1cc821a445303ce);\n",
       "        \n",
       "    \n",
       "        var custom_icon_91500fd8654da7e9189e9b0dfcea8bf0 = L.icon({&quot;iconAnchor&quot;: [10, 30], &quot;iconSize&quot;: [32, 32], &quot;iconUrl&quot;: &quot;data:image/png;base64,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&quot;});\n",
       "        marker_cfe8e7ad4c8ea443b43dbdd96510e3b3.setIcon(custom_icon_91500fd8654da7e9189e9b0dfcea8bf0);\n",
       "        \n",
       "    \n",
       "        var popup_651359e2dcda45432a64d7524107763c = L.popup({&quot;height&quot;: 150, &quot;maxWidth&quot;: 200, &quot;minWidth&quot;: 200});\n",
       "\n",
       "        \n",
       "            \n",
       "                var i_frame_5406f594cbfd192cea8a0550c9079975 = $(`&lt;div style=&quot;width:100%;&quot;&gt;&lt;div style=&quot;position:relative;width:100%;height:0;padding-bottom:60%;&quot;&gt;&lt;iframe src=&quot;data:text/html;charset=utf-8;base64,CiAgICBTdGF0aW9uIzo0MVNQQzxicj5TdGF0ZTogTGViYXAgd2VsYcO9YXR5PGJyPk51bWJlciBpbWFnZXMgVHJhaW46IDEwNC4wPGJyPk51bWJlciBpbWFnZXMgVGVzdDogNi4w&quot; style=&quot;position:absolute;width:100%;height:100%;left:0;top:0;border:none !important;&quot;&gt;&lt;/iframe&gt;&lt;/div&gt;&lt;/div&gt;`)[0];\n",
       "                popup_651359e2dcda45432a64d7524107763c.setContent(i_frame_5406f594cbfd192cea8a0550c9079975);\n",
       "            \n",
       "        \n",
       "\n",
       "        marker_cfe8e7ad4c8ea443b43dbdd96510e3b3.bindPopup(popup_651359e2dcda45432a64d7524107763c)\n",
       "        ;\n",
       "\n",
       "        \n",
       "    \n",
       "    \n",
       "            var marker_a139073722a87614cc7072bd1ed0bf6b = L.marker(\n",
       "                [31.635186220012894, -104.99999999999999],\n",
       "                {}\n",
       "            ).addTo(marker_cluster_190bfa964b824896b1cc821a445303ce);\n",
       "        \n",
       "    \n",
       "        var custom_icon_7a99e77ca5bde5bf0c986d3b9d3faa2b = L.icon({&quot;iconAnchor&quot;: [10, 30], &quot;iconSize&quot;: [32, 32], &quot;iconUrl&quot;: &quot;data:image/png;base64,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&quot;});\n",
       "        marker_a139073722a87614cc7072bd1ed0bf6b.setIcon(custom_icon_7a99e77ca5bde5bf0c986d3b9d3faa2b);\n",
       "        \n",
       "    \n",
       "        var popup_a8a2b34597600c3bf95f4dd66a5c029b = L.popup({&quot;height&quot;: 150, &quot;maxWidth&quot;: 200, &quot;minWidth&quot;: 200});\n",
       "\n",
       "        \n",
       "            \n",
       "                var i_frame_d34d65e963768363fdb937705dadc1a2 = $(`&lt;div style=&quot;width:100%;&quot;&gt;&lt;div style=&quot;position:relative;width:100%;height:0;padding-bottom:60%;&quot;&gt;&lt;iframe src=&quot;data:text/html;charset=utf-8;base64,CiAgICBTdGF0aW9uIzoxM1NFUjxicj5TdGF0ZTogVGV4YXM8YnI+TnVtYmVyIGltYWdlcyBUcmFpbjogMjUuMDxicj5OdW1iZXIgaW1hZ2VzIFRlc3Q6IDEuMA==&quot; style=&quot;position:absolute;width:100%;height:100%;left:0;top:0;border:none !important;&quot;&gt;&lt;/iframe&gt;&lt;/div&gt;&lt;/div&gt;`)[0];\n",
       "                popup_a8a2b34597600c3bf95f4dd66a5c029b.setContent(i_frame_d34d65e963768363fdb937705dadc1a2);\n",
       "            \n",
       "        \n",
       "\n",
       "        marker_a139073722a87614cc7072bd1ed0bf6b.bindPopup(popup_a8a2b34597600c3bf95f4dd66a5c029b)\n",
       "        ;\n",
       "\n",
       "        \n",
       "    \n",
       "    \n",
       "            var marker_221219863c5b1d308e57e8760668ad18 = L.marker(\n",
       "                [31.630831796991053, -103.94552881416523],\n",
       "                {}\n",
       "            ).addTo(marker_cluster_190bfa964b824896b1cc821a445303ce);\n",
       "        \n",
       "    \n",
       "        var custom_icon_a80c1ea8b03052d770639a206fb8101b = L.icon({&quot;iconAnchor&quot;: [10, 30], &quot;iconSize&quot;: [32, 32], &quot;iconUrl&quot;: &quot;data:image/png;base64,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&quot;});\n",
       "        marker_221219863c5b1d308e57e8760668ad18.setIcon(custom_icon_a80c1ea8b03052d770639a206fb8101b);\n",
       "        \n",
       "    \n",
       "        var popup_4c7667c9b63185f3ac21c01783e0cdf1 = L.popup({&quot;height&quot;: 150, &quot;maxWidth&quot;: 200, &quot;minWidth&quot;: 200});\n",
       "\n",
       "        \n",
       "            \n",
       "                var i_frame_9faf9fe0cfedc0a6e7d9a983f5f8773a = $(`&lt;div style=&quot;width:100%;&quot;&gt;&lt;div style=&quot;position:relative;width:100%;height:0;padding-bottom:60%;&quot;&gt;&lt;iframe src=&quot;data:text/html;charset=utf-8;base64,CiAgICBTdGF0aW9uIzoxM1NGUjxicj5TdGF0ZTogVGV4YXM8YnI+TnVtYmVyIGltYWdlcyBUcmFpbjogODUuMDxicj5OdW1iZXIgaW1hZ2VzIFRlc3Q6IDMuMA==&quot; style=&quot;position:absolute;width:100%;height:100%;left:0;top:0;border:none !important;&quot;&gt;&lt;/iframe&gt;&lt;/div&gt;&lt;/div&gt;`)[0];\n",
       "                popup_4c7667c9b63185f3ac21c01783e0cdf1.setContent(i_frame_9faf9fe0cfedc0a6e7d9a983f5f8773a);\n",
       "            \n",
       "        \n",
       "\n",
       "        marker_221219863c5b1d308e57e8760668ad18.bindPopup(popup_4c7667c9b63185f3ac21c01783e0cdf1)\n",
       "        ;\n",
       "\n",
       "        \n",
       "    \n",
       "    \n",
       "            var marker_09f7a3160c8d8f397872209fe923fd2d = L.marker(\n",
       "                [29.83046732018134, 9.0],\n",
       "                {}\n",
       "            ).addTo(marker_cluster_190bfa964b824896b1cc821a445303ce);\n",
       "        \n",
       "    \n",
       "        var custom_icon_4ebdd88dd207f9d7dc2fe88ca5b78a81 = L.icon({&quot;iconAnchor&quot;: [10, 30], &quot;iconSize&quot;: [32, 32], &quot;iconUrl&quot;: &quot;data:image/png;base64,iVBORw0KGgoAAAANSUhEUgAAAEAAAABACAYAAACqaXHeAAAABHNCSVQICAgIfAhkiAAAAAlwSFlzAAAB2AAAAdgB+lymcgAAABl0RVh0U29mdHdhcmUAd3d3Lmlua3NjYXBlLm9yZ5vuPBoAAA4oSURBVHic5Zt5dFR1lsc/r9YskKokBEIgLBIgAbKxCNhARBsQpwWXEdFpG5dWBxva1sPpI+PMeJzunjOjjuPoNAdt29buBppFgWZpQbBBRJFmD6uJgRBIUhCyVyVV9d77zR+vktTyXlUCFGO333PeOfn9fvd33+936977u/e+X+DGwgb8K1AGyIDQeWqAt4DUG7Eg6Ua8JAgfAPeaTCYy+2dhtphDBhVFxVVTjaIoAJ8At8d7QfEWQCEwPPCewcArQ4fl8Js1H9A/a4DuhNrqWv5xwUOcOn4MoAT4NJ4LNIW1ncBsNMk7r4FvErAVOAKsBdYArwA8vvBHhpsHyOjXl/vmP9zRLL6GNXQLlqC/H5Yk6X+FECkAkiS5hRBLgOVXwfd5YHbWwIHMmP09bHYbAE5nKnfdd3/UiaoQXHLVdDSbruLdPUKHCUwHdlosFmbPuVtSVcH2rZvw+3wC+Hvgwx4xlaTKFIcje9veL6XUtPSotDXVFzl68IDWEHDq5Cnee3sZXm+7V6hqDnChp5vqCTo04GeA9MavfsPtd8xGCPho8xx+8uQCCfgp8OeweQrQHIVv5pCbhsXcvNcn88j993Ku4uvwIRV4jjhvHroEMNJut3PbrDsAkCSYMn06ffr2o+6SayJQrzO3DHgW2KIzdubEsaP5x48eYUxhke6LhYCtGzZ0bP5rYF1gqAnYBBy/2k31BB0mcAgo3rJ7LzkjRnYOvrt8GZvXfxAxqaW5hfPnKpAkSRZCFACnwkgeBn5rtVrFhMm3SN8pmc6jTy3EbDbT5vGw/I3/5svPP+fowb+gCiEQYg6wOT5b7B4WA2Jg9iD1P9/4pThSUSXO1NQZPqcuXhbPLn2xI3B5R4efBCxFMxMBiH975TVx/HyteOjRH3YGPZIkXQDm3aA9RoUZeJ/Awu6b/1BUAZypqRN7Dp8WkiQJ4PMofG3AY4B4cMGj4lD5BTFu4uQOAUzhxgdiEeiIAxRgAfBdwL975w7cra2Gk4SAivJyhBAAl6Lw9wHV2hyBEHTMAbiIJoj/V5jD2meBER6Pu2Dn9o9wt7SQmJxMRt9+nQR7d+9i3aqVvP7yz/G43QAvEd1hJQBP+3w+UlKcbFm/Dm97uwy8gJYPfOOQjObZBSBMJpP4/fpN4uSFS+LZ5/85PHF5l9hqbAI+Dpv3y3gt/npiAvAmIJ5Y9GNxsKxKFIwd37GBJfQsTLUBjwC/AO7hG2D7HbBEGfsLkA0skv0yApDlTo39HeDqwXt8wHtXs8B4IzwZCkcjwIXzlTTWX6G+7jJoUVpLvBf2TUFvSZKqCbXfrd2ca0ZLZeujPO9f7wXHA3nASmAf8DqQ1s152YCwmkzCabNrj9UuHBarcFiswoQkAHec1txtxNMZFQBH78gawu++MxsA4Zfxuy4DMPXwDiraW0E7Jr1xWsNkID/K+L5oTvBakQrgtNk7OyRTl8txWKzBdLVxeH8WsBuwGhFIEo1GAkgASoGcRLN5bc0DTz7V3ias93664c4vrtQuF2AHVgPzoywgFcBh7RIA5i6Fc1pswXTxEMBcwFoyKZtJxYEKlKpAq6aByzdcoMktO40EMATISbJYeS5v3P1+P/dLio8XskbyE4+bivZWFCG+G2MBERoAkpZrCxGuAfHA3QA/XzKNKRMGaj2yD6pLAVi900WTWzaMA1IBZvUfzDO5WrwjmUwU9UplV9HtTDi4jWpfm1PbkWE8nwZwurme31ac7OxUmloQqkqtry2E7jrDCUzv1yeZW8YZ1x/BOBBKA0i1JXT1SKH2W+1rMwMpGNft0gA2Vn3NxqqIik8w4qEBdwHWuTOHYzJF9/NGAnACpNhsXT1BDizIftMwFoATYN73chmaHVRgdl8Bxc/BM83sOFAP8RHAXIC5M3NiEkY1Aac12INLnQrvDLXfs9F4PPPY+FA1vFwObU28u6XaSABFwJNEZqo9wWyANZtPs3F7eVevqoBHq+5dafYBPTEBQMKEQMUR6sGNkAqQ6gjlgUl7ZVqKoRN8HnggCt9u4/11scuKUTVg6ZHPePFYV8FHqFo03KYqIXTReEQKQPthU3tbQuiCYAN4Zew0hvZyRF99T6GoyA2NACwuO8Blvze6AMx2CcnS5UQkVQXA7KMjdospgNk/WIPZHJRzKX5Q/LjbowtxXHo/8p19Yuyoh5AVfKqmeQmBHyKqCXz2wfcpyMvo6r30FbS3sGz9BX702mmILoB0gCMno1XMiMUj7oh6Cjgd9tDegP1GUd8OSIAjMzGZPTNDzVlta0dpaMKjyow/uC0aj060KTK7XFX4Axp4NShO60u2LSmiP6oGpBnYb5ADMwpiUgBLmi0hLBIEVQXZ4sGBFatkwi/UmIHQr8pK+VnpvlhkUVGQmsHOW++J6DfUAIvZhM+v0tDU3tXbqkKLH3NXcGH06zkBHGGbB0LiCYfFSp3fG1MDmv2aw5kzI4e8nJ75BUVRefXt/Xhkv+64kQDSZUUlvfB/YvE3WnzgGI0UQHhGWOf3JqAlX+0RxGF4cM4o5s/Ji0UWAq9P4dW39xuO6wkgAUhIMFsYmRK2P1VFyAoKghPuJoihASlWHQFIXafKmGQn1d62y22q0q3y+D+9vDvqZvQQ9B1CF3oCSAUY7Ujno9vvDRlQ29qRrzQgC8GQfRsRV6EBIkgDlg0fT6vd9tLIXWuiCmCMsw8ScLaqibNVV3dlYHx6P91+PQGkQXgaG0Dg17NIEr3MFloU2ciBGZuAhOYHAh69l9XaN8bauTs7h5n9B+O7ylNAkgJ1CVmJGDPUAD0BhNqvjRZFTkGL2cM5a8UQPSGimYEAmmU/e2orC4BngHGBJ1dvjluW8SiRjizdnkivQG6iCkGVJ7JgLaGZo15eqCcALQbQE4A5OCO0csGLCXAQeX9AOwWCfECVp4XShjpKG+s46qrmREsD1VpN4O7AA4DVasHvD7WI1ZVnWLz/E93CQ7LFyt5Z8xmQ1It5ezaz26V/p2Jm/8GsmDQrot9QAxw6DkwE5dYpoRlhsADMwACAD8+XsfLsaUob62jwhTp5i8XM6FEjKC4aRXFhLsVj+lJcmMNjC19m/abPQmjLmhsQwNBsB2nOxM7+ivONNDS1U9vuZkBSL0431SNJMHZMZteaheDQcRcVrfq+o2cmEPQdJbUrI5yCdseoOPAUoH1fZHtNJQCJiQncPKGQosJRjC0aQ3HRaPLHjCQxMRBoCR/4L+ouMBj//tOSkGNw/qI/snpT6N0Mm9XMgc0LOtten0LC8FcNeXZbAC1+H8cb6zhSe5bS1kb2N1/pGHovmM7pSKGocBTFRaM7n9yRN2GxXHsB+p0/HOXPX5zvbB84VhNBIysqTy3d1tlWlOiO0/AUCDaBDVXlLNy/EznMC2f17xfY5KjOTd80dFC3NtMTpNk1td+5t5KdeytDxiSgT2A83Z6Iq93D2yuPRPBItydG9EE3NeBw/SVkVaVk2kRmzZjW+cv263ud01UDPD5sDMN6OfCqkcfY4OQUBienALB66t+x/0pkhV0CJmdk6fI21IDwahDA4qcXcN89szvbPp+fCxe71DAt1YnTqS2moaGJhsYux5M9MAurVXvdxepavF6tJGW1WskeEP06nd1sZlbWkKg0AJmJycwZOMyYoJtxQCCRsSELlfKWRs659a8E3jpjPl/sO9TZTkiwc/arPciyQk5eSecmAUqmTWTXx3/gnXdX88TC50P4vPbyUp5dOMNw3fvrally6FPdhGZQcm9WTLmTRLOF/zixn3WVZRE0kgQ/uGkUi4cVRIwFCyANrSA5CODBPVspb23Ep3RJzeFICZlc/vU5zGaJ6ZMHU3r6Mq46N1VVNfj9frxeH5kZyYwZmcEnn1dSVnaucw5Afm4GFrOJwydclJWfM9w8wPaac5xquqI7Vulu5lRTPWPT+vL7ilO42j26dCvPnjYUwKtoRciBwQMnm66QnuakqHA0Bfm5TLy5iNtunRzBIMFu4eMVDzDv6Y2s3XI6ZOy2Wwaz4o27sOdEHkMvLJpMSm87dy5Yq79rHax6c47uMSiCQiS7zUx72ZLOdneOwedMJpOUl5tDQX4uhQV5FOTnUpCfy4CsTMOJHfC0+Rk29S1cdZFfuv+4o5xhU9/Cr2N7P35xR8yPFuH48kg15qDvi1XVkaapqiLkh/DLsY9BaVB2FscPb4tKqIeSqRNZ9+GfqDivVVqHDslmxPChKIpCZr8Mal2XaXVrfmDWzGkATJ40FpvNyqUrmqomJNiZNmVC1PfYApWo1399gNd/fSBiPCFQqrOZzfjbVeY9vdGQRziuKTpZu2qZ4VjNef28fe5dM/C2fBXaGSMS/IehefhVFVUnG+ibkMQop3aK/NfYEj67rM/n9kz9+CSe9wOuGwYk9eKF/Ikx6aZnZjM9M9uYoJvHIOerqnnk8SU0txjfFr1esFotvPQvi5hZMrTbcxQh+NPFs9T79KtoFsnErKzBhtFfCK1ep8tVx569+5F1JHa9YTKZOF9VA3RfALtcVTz6RXSfNX/ISN6ccFtMXroCmDC+gKbLpSGBTLxgtVrplWzpVjbYgSafViUeNeFmiqZMDRmrq61l+6oVtMUoM/azJVDta6s19AFJSYkkJcVWoesCcXWCHlFYxJzHngjpKy89xvZVK2LOfS93Els9jbNjXZT8m0Wqxcb3B+c1/FWcAvFAldfDa8dPDv/WCuCHZ77kpKd57bfWBJpkP6oQzm+tADogAcJiMTMoO/p1svhCgNCOLdelBtyedvonJhvG727ZT523jeTeKSQ7Qm+RyD4f9ZdcJFmsZOgFQoH0/qLXgxz4bLYL/X9j/zY8H/0f2l9mt847LzUAAAAASUVORK5CYII=&quot;});\n",
       "        marker_09f7a3160c8d8f397872209fe923fd2d.setIcon(custom_icon_4ebdd88dd207f9d7dc2fe88ca5b78a81);\n",
       "        \n",
       "    \n",
       "        var popup_c22f3ad8a7d377b95c972ecb819267e0 = L.popup({&quot;height&quot;: 150, &quot;maxWidth&quot;: 200, &quot;minWidth&quot;: 200});\n",
       "\n",
       "        \n",
       "            \n",
       "                var i_frame_034f3e62a398369c1af081a28b25226f = $(`&lt;div style=&quot;width:100%;&quot;&gt;&lt;div style=&quot;position:relative;width:100%;height:0;padding-bottom:60%;&quot;&gt;&lt;iframe src=&quot;data:text/html;charset=utf-8;base64,CiAgICBTdGF0aW9uIzozMlJOVTxicj5TdGF0ZTogSWxsaXppPGJyPk51bWJlciBpbWFnZXMgVHJhaW46IDE1LjA8YnI+TnVtYmVyIGltYWdlcyBUZXN0OiAxLjA=&quot; style=&quot;position:absolute;width:100%;height:100%;left:0;top:0;border:none !important;&quot;&gt;&lt;/iframe&gt;&lt;/div&gt;&lt;/div&gt;`)[0];\n",
       "                popup_c22f3ad8a7d377b95c972ecb819267e0.setContent(i_frame_034f3e62a398369c1af081a28b25226f);\n",
       "            \n",
       "        \n",
       "\n",
       "        marker_09f7a3160c8d8f397872209fe923fd2d.bindPopup(popup_c22f3ad8a7d377b95c972ecb819267e0)\n",
       "        ;\n",
       "\n",
       "        \n",
       "    \n",
       "    \n",
       "            var marker_f4c77e6166924f45abaad37177a0dcca = L.marker(\n",
       "                [31.617775075405053, -102.89151410220674],\n",
       "                {}\n",
       "            ).addTo(marker_cluster_190bfa964b824896b1cc821a445303ce);\n",
       "        \n",
       "    \n",
       "        var custom_icon_5fb02bf7b1bda931e0eeceea6cd71fad = L.icon({&quot;iconAnchor&quot;: [10, 30], &quot;iconSize&quot;: [32, 32], &quot;iconUrl&quot;: &quot;data:image/png;base64,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&quot;});\n",
       "        marker_f4c77e6166924f45abaad37177a0dcca.setIcon(custom_icon_5fb02bf7b1bda931e0eeceea6cd71fad);\n",
       "        \n",
       "    \n",
       "        var popup_3d9cab1b46f8d526c87378fc5326cb24 = L.popup({&quot;height&quot;: 150, &quot;maxWidth&quot;: 200, &quot;minWidth&quot;: 200});\n",
       "\n",
       "        \n",
       "            \n",
       "                var i_frame_93dcf59741372f8deb1e94f721f996b2 = $(`&lt;div style=&quot;width:100%;&quot;&gt;&lt;div style=&quot;position:relative;width:100%;height:0;padding-bottom:60%;&quot;&gt;&lt;iframe src=&quot;data:text/html;charset=utf-8;base64,CiAgICBTdGF0aW9uIzoxM1NHUjxicj5TdGF0ZTogVGV4YXM8YnI+TnVtYmVyIGltYWdlcyBUcmFpbjogMTI1LjA8YnI+TnVtYmVyIGltYWdlcyBUZXN0OiAzLjA=&quot; style=&quot;position:absolute;width:100%;height:100%;left:0;top:0;border:none !important;&quot;&gt;&lt;/iframe&gt;&lt;/div&gt;&lt;/div&gt;`)[0];\n",
       "                popup_3d9cab1b46f8d526c87378fc5326cb24.setContent(i_frame_93dcf59741372f8deb1e94f721f996b2);\n",
       "            \n",
       "        \n",
       "\n",
       "        marker_f4c77e6166924f45abaad37177a0dcca.bindPopup(popup_3d9cab1b46f8d526c87378fc5326cb24)\n",
       "        ;\n",
       "\n",
       "        \n",
       "    \n",
       "    \n",
       "            var marker_290828738de2dae16f29fd777cf60d62 = L.marker(\n",
       "                [30.728686437480953, -103.95548081617733],\n",
       "                {}\n",
       "            ).addTo(marker_cluster_190bfa964b824896b1cc821a445303ce);\n",
       "        \n",
       "    \n",
       "        var custom_icon_b1773b49cbe43852a84de6949a3517c7 = L.icon({&quot;iconAnchor&quot;: [10, 30], &quot;iconSize&quot;: [32, 32], &quot;iconUrl&quot;: &quot;data:image/png;base64,iVBORw0KGgoAAAANSUhEUgAAAEAAAABACAYAAACqaXHeAAAABHNCSVQICAgIfAhkiAAAAAlwSFlzAAAB2AAAAdgB+lymcgAAABl0RVh0U29mdHdhcmUAd3d3Lmlua3NjYXBlLm9yZ5vuPBoAAA4oSURBVHic5Zt5dFR1lsc/r9YskKokBEIgLBIgAbKxCNhARBsQpwWXEdFpG5dWBxva1sPpI+PMeJzunjOjjuPoNAdt29buBppFgWZpQbBBRJFmD6uJgRBIUhCyVyVV9d77zR+vktTyXlUCFGO333PeOfn9fvd33+936977u/e+X+DGwgb8K1AGyIDQeWqAt4DUG7Eg6Ua8JAgfAPeaTCYy+2dhtphDBhVFxVVTjaIoAJ8At8d7QfEWQCEwPPCewcArQ4fl8Js1H9A/a4DuhNrqWv5xwUOcOn4MoAT4NJ4LNIW1ncBsNMk7r4FvErAVOAKsBdYArwA8vvBHhpsHyOjXl/vmP9zRLL6GNXQLlqC/H5Yk6X+FECkAkiS5hRBLgOVXwfd5YHbWwIHMmP09bHYbAE5nKnfdd3/UiaoQXHLVdDSbruLdPUKHCUwHdlosFmbPuVtSVcH2rZvw+3wC+Hvgwx4xlaTKFIcje9veL6XUtPSotDXVFzl68IDWEHDq5Cnee3sZXm+7V6hqDnChp5vqCTo04GeA9MavfsPtd8xGCPho8xx+8uQCCfgp8OeweQrQHIVv5pCbhsXcvNcn88j993Ku4uvwIRV4jjhvHroEMNJut3PbrDsAkCSYMn06ffr2o+6SayJQrzO3DHgW2KIzdubEsaP5x48eYUxhke6LhYCtGzZ0bP5rYF1gqAnYBBy/2k31BB0mcAgo3rJ7LzkjRnYOvrt8GZvXfxAxqaW5hfPnKpAkSRZCFACnwkgeBn5rtVrFhMm3SN8pmc6jTy3EbDbT5vGw/I3/5svPP+fowb+gCiEQYg6wOT5b7B4WA2Jg9iD1P9/4pThSUSXO1NQZPqcuXhbPLn2xI3B5R4efBCxFMxMBiH975TVx/HyteOjRH3YGPZIkXQDm3aA9RoUZeJ/Awu6b/1BUAZypqRN7Dp8WkiQJ4PMofG3AY4B4cMGj4lD5BTFu4uQOAUzhxgdiEeiIAxRgAfBdwL975w7cra2Gk4SAivJyhBAAl6Lw9wHV2hyBEHTMAbiIJoj/V5jD2meBER6Pu2Dn9o9wt7SQmJxMRt9+nQR7d+9i3aqVvP7yz/G43QAvEd1hJQBP+3w+UlKcbFm/Dm97uwy8gJYPfOOQjObZBSBMJpP4/fpN4uSFS+LZ5/85PHF5l9hqbAI+Dpv3y3gt/npiAvAmIJ5Y9GNxsKxKFIwd37GBJfQsTLUBjwC/AO7hG2D7HbBEGfsLkA0skv0yApDlTo39HeDqwXt8wHtXs8B4IzwZCkcjwIXzlTTWX6G+7jJoUVpLvBf2TUFvSZKqCbXfrd2ca0ZLZeujPO9f7wXHA3nASmAf8DqQ1s152YCwmkzCabNrj9UuHBarcFiswoQkAHec1txtxNMZFQBH78gawu++MxsA4Zfxuy4DMPXwDiraW0E7Jr1xWsNkID/K+L5oTvBakQrgtNk7OyRTl8txWKzBdLVxeH8WsBuwGhFIEo1GAkgASoGcRLN5bc0DTz7V3ias93664c4vrtQuF2AHVgPzoywgFcBh7RIA5i6Fc1pswXTxEMBcwFoyKZtJxYEKlKpAq6aByzdcoMktO40EMATISbJYeS5v3P1+P/dLio8XskbyE4+bivZWFCG+G2MBERoAkpZrCxGuAfHA3QA/XzKNKRMGaj2yD6pLAVi900WTWzaMA1IBZvUfzDO5WrwjmUwU9UplV9HtTDi4jWpfm1PbkWE8nwZwurme31ac7OxUmloQqkqtry2E7jrDCUzv1yeZW8YZ1x/BOBBKA0i1JXT1SKH2W+1rMwMpGNft0gA2Vn3NxqqIik8w4qEBdwHWuTOHYzJF9/NGAnACpNhsXT1BDizIftMwFoATYN73chmaHVRgdl8Bxc/BM83sOFAP8RHAXIC5M3NiEkY1Aac12INLnQrvDLXfs9F4PPPY+FA1vFwObU28u6XaSABFwJNEZqo9wWyANZtPs3F7eVevqoBHq+5dafYBPTEBQMKEQMUR6sGNkAqQ6gjlgUl7ZVqKoRN8HnggCt9u4/11scuKUTVg6ZHPePFYV8FHqFo03KYqIXTReEQKQPthU3tbQuiCYAN4Zew0hvZyRF99T6GoyA2NACwuO8Blvze6AMx2CcnS5UQkVQXA7KMjdospgNk/WIPZHJRzKX5Q/LjbowtxXHo/8p19Yuyoh5AVfKqmeQmBHyKqCXz2wfcpyMvo6r30FbS3sGz9BX702mmILoB0gCMno1XMiMUj7oh6Cjgd9tDegP1GUd8OSIAjMzGZPTNDzVlta0dpaMKjyow/uC0aj060KTK7XFX4Axp4NShO60u2LSmiP6oGpBnYb5ADMwpiUgBLmi0hLBIEVQXZ4sGBFatkwi/UmIHQr8pK+VnpvlhkUVGQmsHOW++J6DfUAIvZhM+v0tDU3tXbqkKLH3NXcGH06zkBHGGbB0LiCYfFSp3fG1MDmv2aw5kzI4e8nJ75BUVRefXt/Xhkv+64kQDSZUUlvfB/YvE3WnzgGI0UQHhGWOf3JqAlX+0RxGF4cM4o5s/Ji0UWAq9P4dW39xuO6wkgAUhIMFsYmRK2P1VFyAoKghPuJoihASlWHQFIXafKmGQn1d62y22q0q3y+D+9vDvqZvQQ9B1CF3oCSAUY7Ujno9vvDRlQ29qRrzQgC8GQfRsRV6EBIkgDlg0fT6vd9tLIXWuiCmCMsw8ScLaqibNVV3dlYHx6P91+PQGkQXgaG0Dg17NIEr3MFloU2ciBGZuAhOYHAh69l9XaN8bauTs7h5n9B+O7ylNAkgJ1CVmJGDPUAD0BhNqvjRZFTkGL2cM5a8UQPSGimYEAmmU/e2orC4BngHGBJ1dvjluW8SiRjizdnkivQG6iCkGVJ7JgLaGZo15eqCcALQbQE4A5OCO0csGLCXAQeX9AOwWCfECVp4XShjpKG+s46qrmREsD1VpN4O7AA4DVasHvD7WI1ZVnWLz/E93CQ7LFyt5Z8xmQ1It5ezaz26V/p2Jm/8GsmDQrot9QAxw6DkwE5dYpoRlhsADMwACAD8+XsfLsaUob62jwhTp5i8XM6FEjKC4aRXFhLsVj+lJcmMNjC19m/abPQmjLmhsQwNBsB2nOxM7+ivONNDS1U9vuZkBSL0431SNJMHZMZteaheDQcRcVrfq+o2cmEPQdJbUrI5yCdseoOPAUoH1fZHtNJQCJiQncPKGQosJRjC0aQ3HRaPLHjCQxMRBoCR/4L+ouMBj//tOSkGNw/qI/snpT6N0Mm9XMgc0LOtten0LC8FcNeXZbAC1+H8cb6zhSe5bS1kb2N1/pGHovmM7pSKGocBTFRaM7n9yRN2GxXHsB+p0/HOXPX5zvbB84VhNBIysqTy3d1tlWlOiO0/AUCDaBDVXlLNy/EznMC2f17xfY5KjOTd80dFC3NtMTpNk1td+5t5KdeytDxiSgT2A83Z6Iq93D2yuPRPBItydG9EE3NeBw/SVkVaVk2kRmzZjW+cv263ud01UDPD5sDMN6OfCqkcfY4OQUBienALB66t+x/0pkhV0CJmdk6fI21IDwahDA4qcXcN89szvbPp+fCxe71DAt1YnTqS2moaGJhsYux5M9MAurVXvdxepavF6tJGW1WskeEP06nd1sZlbWkKg0AJmJycwZOMyYoJtxQCCRsSELlfKWRs659a8E3jpjPl/sO9TZTkiwc/arPciyQk5eSecmAUqmTWTXx3/gnXdX88TC50P4vPbyUp5dOMNw3fvrally6FPdhGZQcm9WTLmTRLOF/zixn3WVZRE0kgQ/uGkUi4cVRIwFCyANrSA5CODBPVspb23Ep3RJzeFICZlc/vU5zGaJ6ZMHU3r6Mq46N1VVNfj9frxeH5kZyYwZmcEnn1dSVnaucw5Afm4GFrOJwydclJWfM9w8wPaac5xquqI7Vulu5lRTPWPT+vL7ilO42j26dCvPnjYUwKtoRciBwQMnm66QnuakqHA0Bfm5TLy5iNtunRzBIMFu4eMVDzDv6Y2s3XI6ZOy2Wwaz4o27sOdEHkMvLJpMSm87dy5Yq79rHax6c47uMSiCQiS7zUx72ZLOdneOwedMJpOUl5tDQX4uhQV5FOTnUpCfy4CsTMOJHfC0+Rk29S1cdZFfuv+4o5xhU9/Cr2N7P35xR8yPFuH48kg15qDvi1XVkaapqiLkh/DLsY9BaVB2FscPb4tKqIeSqRNZ9+GfqDivVVqHDslmxPChKIpCZr8Mal2XaXVrfmDWzGkATJ40FpvNyqUrmqomJNiZNmVC1PfYApWo1399gNd/fSBiPCFQqrOZzfjbVeY9vdGQRziuKTpZu2qZ4VjNef28fe5dM/C2fBXaGSMS/IehefhVFVUnG+ibkMQop3aK/NfYEj67rM/n9kz9+CSe9wOuGwYk9eKF/Ikx6aZnZjM9M9uYoJvHIOerqnnk8SU0txjfFr1esFotvPQvi5hZMrTbcxQh+NPFs9T79KtoFsnErKzBhtFfCK1ep8tVx569+5F1JHa9YTKZOF9VA3RfALtcVTz6RXSfNX/ISN6ccFtMXroCmDC+gKbLpSGBTLxgtVrplWzpVjbYgSafViUeNeFmiqZMDRmrq61l+6oVtMUoM/azJVDta6s19AFJSYkkJcVWoesCcXWCHlFYxJzHngjpKy89xvZVK2LOfS93Els9jbNjXZT8m0Wqxcb3B+c1/FWcAvFAldfDa8dPDv/WCuCHZ77kpKd57bfWBJpkP6oQzm+tADogAcJiMTMoO/p1svhCgNCOLdelBtyedvonJhvG727ZT523jeTeKSQ7Qm+RyD4f9ZdcJFmsZOgFQoH0/qLXgxz4bLYL/X9j/zY8H/0f2l9mt847LzUAAAAASUVORK5CYII=&quot;});\n",
       "        marker_290828738de2dae16f29fd777cf60d62.setIcon(custom_icon_b1773b49cbe43852a84de6949a3517c7);\n",
       "        \n",
       "    \n",
       "        var popup_b0ab8fbf65c7a5dc02c8f816fb8dbb43 = L.popup({&quot;height&quot;: 150, &quot;maxWidth&quot;: 200, &quot;minWidth&quot;: 200});\n",
       "\n",
       "        \n",
       "            \n",
       "                var i_frame_ccc2924e2cf25e5fbf0d6c35b737fa7f = $(`&lt;div style=&quot;width:100%;&quot;&gt;&lt;div style=&quot;position:relative;width:100%;height:0;padding-bottom:60%;&quot;&gt;&lt;iframe src=&quot;data:text/html;charset=utf-8;base64,CiAgICBTdGF0aW9uIzoxM1JGUTxicj5TdGF0ZTogVGV4YXM8YnI+TnVtYmVyIGltYWdlcyBUcmFpbjogMjAuMDxicj5OdW1iZXIgaW1hZ2VzIFRlc3Q6IDIuMA==&quot; style=&quot;position:absolute;width:100%;height:100%;left:0;top:0;border:none !important;&quot;&gt;&lt;/iframe&gt;&lt;/div&gt;&lt;/div&gt;`)[0];\n",
       "                popup_b0ab8fbf65c7a5dc02c8f816fb8dbb43.setContent(i_frame_ccc2924e2cf25e5fbf0d6c35b737fa7f);\n",
       "            \n",
       "        \n",
       "\n",
       "        marker_290828738de2dae16f29fd777cf60d62.bindPopup(popup_b0ab8fbf65c7a5dc02c8f816fb8dbb43)\n",
       "        ;\n",
       "\n",
       "        \n",
       "    \n",
       "    \n",
       "            var marker_15ee1d64864f3a96c613698cd321e102 = L.marker(\n",
       "                [40.65085651557127, -104.99999999999999],\n",
       "                {}\n",
       "            ).addTo(marker_cluster_190bfa964b824896b1cc821a445303ce);\n",
       "        \n",
       "    \n",
       "        var custom_icon_0963c41cc1f3f54aeb475e92f35fa0f7 = L.icon({&quot;iconAnchor&quot;: [10, 30], &quot;iconSize&quot;: [32, 32], &quot;iconUrl&quot;: &quot;data:image/png;base64,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&quot;});\n",
       "        marker_15ee1d64864f3a96c613698cd321e102.setIcon(custom_icon_0963c41cc1f3f54aeb475e92f35fa0f7);\n",
       "        \n",
       "    \n",
       "        var popup_8f6a63dd14d269dd0dac6e8df383388f = L.popup({&quot;height&quot;: 150, &quot;maxWidth&quot;: 200, &quot;minWidth&quot;: 200});\n",
       "\n",
       "        \n",
       "            \n",
       "                var i_frame_008a03fde6fd44414bb1bfd53da846a3 = $(`&lt;div style=&quot;width:100%;&quot;&gt;&lt;div style=&quot;position:relative;width:100%;height:0;padding-bottom:60%;&quot;&gt;&lt;iframe src=&quot;data:text/html;charset=utf-8;base64,CiAgICBTdGF0aW9uIzoxM1RFRjxicj5TdGF0ZTogQ29sb3JhZG88YnI+TnVtYmVyIGltYWdlcyBUcmFpbjogMTAuMDxicj5OdW1iZXIgaW1hZ2VzIFRlc3Q6IG5hbg==&quot; style=&quot;position:absolute;width:100%;height:100%;left:0;top:0;border:none !important;&quot;&gt;&lt;/iframe&gt;&lt;/div&gt;&lt;/div&gt;`)[0];\n",
       "                popup_8f6a63dd14d269dd0dac6e8df383388f.setContent(i_frame_008a03fde6fd44414bb1bfd53da846a3);\n",
       "            \n",
       "        \n",
       "\n",
       "        marker_15ee1d64864f3a96c613698cd321e102.bindPopup(popup_8f6a63dd14d269dd0dac6e8df383388f)\n",
       "        ;\n",
       "\n",
       "        \n",
       "    \n",
       "    \n",
       "            var marker_d19e14676325e2f8d793030d2a9dec09 = L.marker(\n",
       "                [33.42073849032219, -84.84896731384565],\n",
       "                {}\n",
       "            ).addTo(marker_cluster_190bfa964b824896b1cc821a445303ce);\n",
       "        \n",
       "    \n",
       "        var custom_icon_08067e37d24fb6133e2f9666575c846c = L.icon({&quot;iconAnchor&quot;: [10, 30], &quot;iconSize&quot;: [32, 32], &quot;iconUrl&quot;: &quot;data:image/png;base64,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&quot;});\n",
       "        marker_d19e14676325e2f8d793030d2a9dec09.setIcon(custom_icon_08067e37d24fb6133e2f9666575c846c);\n",
       "        \n",
       "    \n",
       "        var popup_ddb3259080d5e521b54e313407b09280 = L.popup({&quot;height&quot;: 150, &quot;maxWidth&quot;: 200, &quot;minWidth&quot;: 200});\n",
       "\n",
       "        \n",
       "            \n",
       "                var i_frame_c9e8f92c8a0fca5726c89a3f390adaa2 = $(`&lt;div style=&quot;width:100%;&quot;&gt;&lt;div style=&quot;position:relative;width:100%;height:0;padding-bottom:60%;&quot;&gt;&lt;iframe src=&quot;data:text/html;charset=utf-8;base64,CiAgICBTdGF0aW9uIzoxNlNHQzxicj5TdGF0ZTogR2VvcmdpYTxicj5OdW1iZXIgaW1hZ2VzIFRyYWluOiA1LjA8YnI+TnVtYmVyIGltYWdlcyBUZXN0OiBuYW4=&quot; style=&quot;position:absolute;width:100%;height:100%;left:0;top:0;border:none !important;&quot;&gt;&lt;/iframe&gt;&lt;/div&gt;&lt;/div&gt;`)[0];\n",
       "                popup_ddb3259080d5e521b54e313407b09280.setContent(i_frame_c9e8f92c8a0fca5726c89a3f390adaa2);\n",
       "            \n",
       "        \n",
       "\n",
       "        marker_d19e14676325e2f8d793030d2a9dec09.bindPopup(popup_ddb3259080d5e521b54e313407b09280)\n",
       "        ;\n",
       "\n",
       "        \n",
       "    \n",
       "    \n",
       "            var marker_4c155d8622697209c5471947d252dd57 = L.marker(\n",
       "                [39.7499075191044, -104.99999999999999],\n",
       "                {}\n",
       "            ).addTo(marker_cluster_190bfa964b824896b1cc821a445303ce);\n",
       "        \n",
       "    \n",
       "        var custom_icon_2a9b8509bab2c8b6e3693fdf327b0be2 = L.icon({&quot;iconAnchor&quot;: [10, 30], &quot;iconSize&quot;: [32, 32], &quot;iconUrl&quot;: &quot;data:image/png;base64,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&quot;});\n",
       "        marker_4c155d8622697209c5471947d252dd57.setIcon(custom_icon_2a9b8509bab2c8b6e3693fdf327b0be2);\n",
       "        \n",
       "    \n",
       "        var popup_cb5eb840898bb9ce4a2e0feef53d50db = L.popup({&quot;height&quot;: 150, &quot;maxWidth&quot;: 200, &quot;minWidth&quot;: 200});\n",
       "\n",
       "        \n",
       "            \n",
       "                var i_frame_a11eeffb71656b6c1f9dc05805748a9b = $(`&lt;div style=&quot;width:100%;&quot;&gt;&lt;div style=&quot;position:relative;width:100%;height:0;padding-bottom:60%;&quot;&gt;&lt;iframe src=&quot;data:text/html;charset=utf-8;base64,CiAgICBTdGF0aW9uIzoxM1RFRTxicj5TdGF0ZTogQ29sb3JhZG88YnI+TnVtYmVyIGltYWdlcyBUcmFpbjogNS4wPGJyPk51bWJlciBpbWFnZXMgVGVzdDogbmFu&quot; style=&quot;position:absolute;width:100%;height:100%;left:0;top:0;border:none !important;&quot;&gt;&lt;/iframe&gt;&lt;/div&gt;&lt;/div&gt;`)[0];\n",
       "                popup_cb5eb840898bb9ce4a2e0feef53d50db.setContent(i_frame_a11eeffb71656b6c1f9dc05805748a9b);\n",
       "            \n",
       "        \n",
       "\n",
       "        marker_4c155d8622697209c5471947d252dd57.bindPopup(popup_cb5eb840898bb9ce4a2e0feef53d50db)\n",
       "        ;\n",
       "\n",
       "        \n",
       "    \n",
       "    \n",
       "            var marker_4f35902ac688b347f2fa2683b9653c9a = L.marker(\n",
       "                [37.040893542510126, -100.12448022993998],\n",
       "                {}\n",
       "            ).addTo(marker_cluster_190bfa964b824896b1cc821a445303ce);\n",
       "        \n",
       "    \n",
       "        var custom_icon_79ae5667b02b9fd34ea566acdc73700a = L.icon({&quot;iconAnchor&quot;: [10, 30], &quot;iconSize&quot;: [32, 32], &quot;iconUrl&quot;: &quot;data:image/png;base64,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&quot;});\n",
       "        marker_4f35902ac688b347f2fa2683b9653c9a.setIcon(custom_icon_79ae5667b02b9fd34ea566acdc73700a);\n",
       "        \n",
       "    \n",
       "        var popup_2aff42d62cb18a4e0819ac45c2545d34 = L.popup({&quot;height&quot;: 150, &quot;maxWidth&quot;: 200, &quot;minWidth&quot;: 200});\n",
       "\n",
       "        \n",
       "            \n",
       "                var i_frame_c8ca860e38403edcd0cf6c89f0ce7cad = $(`&lt;div style=&quot;width:100%;&quot;&gt;&lt;div style=&quot;position:relative;width:100%;height:0;padding-bottom:60%;&quot;&gt;&lt;iframe src=&quot;data:text/html;charset=utf-8;base64,CiAgICBTdGF0aW9uIzoxNFNNRzxicj5TdGF0ZTogS2Fuc2FzPGJyPk51bWJlciBpbWFnZXMgVHJhaW46IDUuMDxicj5OdW1iZXIgaW1hZ2VzIFRlc3Q6IG5hbg==&quot; style=&quot;position:absolute;width:100%;height:100%;left:0;top:0;border:none !important;&quot;&gt;&lt;/iframe&gt;&lt;/div&gt;&lt;/div&gt;`)[0];\n",
       "                popup_2aff42d62cb18a4e0819ac45c2545d34.setContent(i_frame_c8ca860e38403edcd0cf6c89f0ce7cad);\n",
       "            \n",
       "        \n",
       "\n",
       "        marker_4f35902ac688b347f2fa2683b9653c9a.bindPopup(popup_2aff42d62cb18a4e0819ac45c2545d34)\n",
       "        ;\n",
       "\n",
       "        \n",
       "    \n",
       "    \n",
       "            var marker_b2e6431006aea25941b8694abbe7c8aa = L.marker(\n",
       "                [28.010200245941192, 0.9659270347472472],\n",
       "                {}\n",
       "            ).addTo(marker_cluster_190bfa964b824896b1cc821a445303ce);\n",
       "        \n",
       "    \n",
       "        var custom_icon_1a293f80bec7de60b509531f29fde261 = L.icon({&quot;iconAnchor&quot;: [10, 30], &quot;iconSize&quot;: [32, 32], &quot;iconUrl&quot;: &quot;data:image/png;base64,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&quot;});\n",
       "        marker_b2e6431006aea25941b8694abbe7c8aa.setIcon(custom_icon_1a293f80bec7de60b509531f29fde261);\n",
       "        \n",
       "    \n",
       "        var popup_ca976a5cfefe0bf05f87eb8ee8143a8e = L.popup({&quot;height&quot;: 150, &quot;maxWidth&quot;: 200, &quot;minWidth&quot;: 200});\n",
       "\n",
       "        \n",
       "            \n",
       "                var i_frame_0a7f498e8f4edbb6c2bd393ae2ce1b8b = $(`&lt;div style=&quot;width:100%;&quot;&gt;&lt;div style=&quot;position:relative;width:100%;height:0;padding-bottom:60%;&quot;&gt;&lt;iframe src=&quot;data:text/html;charset=utf-8;base64,CiAgICBTdGF0aW9uIzozMVJDTTxicj5TdGF0ZTogQWRyYXI8YnI+TnVtYmVyIGltYWdlcyBUcmFpbjogMTAuMDxicj5OdW1iZXIgaW1hZ2VzIFRlc3Q6IDEuMA==&quot; style=&quot;position:absolute;width:100%;height:100%;left:0;top:0;border:none !important;&quot;&gt;&lt;/iframe&gt;&lt;/div&gt;&lt;/div&gt;`)[0];\n",
       "                popup_ca976a5cfefe0bf05f87eb8ee8143a8e.setContent(i_frame_0a7f498e8f4edbb6c2bd393ae2ce1b8b);\n",
       "            \n",
       "        \n",
       "\n",
       "        marker_b2e6431006aea25941b8694abbe7c8aa.bindPopup(popup_ca976a5cfefe0bf05f87eb8ee8143a8e)\n",
       "        ;\n",
       "\n",
       "        \n",
       "    \n",
       "    \n",
       "            var marker_76c6e010105823f9359999ec654129fd = L.marker(\n",
       "                [37.942085319765845, 61.861926068068335],\n",
       "                {}\n",
       "            ).addTo(marker_cluster_190bfa964b824896b1cc821a445303ce);\n",
       "        \n",
       "    \n",
       "        var custom_icon_45b8a623298cb2bec1dc0ae18e421ad7 = L.icon({&quot;iconAnchor&quot;: [10, 30], &quot;iconSize&quot;: [32, 32], &quot;iconUrl&quot;: &quot;data:image/png;base64,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&quot;});\n",
       "        marker_76c6e010105823f9359999ec654129fd.setIcon(custom_icon_45b8a623298cb2bec1dc0ae18e421ad7);\n",
       "        \n",
       "    \n",
       "        var popup_8b97ee795b29a9e09fb2d567041b20cc = L.popup({&quot;height&quot;: 150, &quot;maxWidth&quot;: 200, &quot;minWidth&quot;: 200});\n",
       "\n",
       "        \n",
       "            \n",
       "                var i_frame_b7914c29b8fa533f2e86728e7e013f0f = $(`&lt;div style=&quot;width:100%;&quot;&gt;&lt;div style=&quot;position:relative;width:100%;height:0;padding-bottom:60%;&quot;&gt;&lt;iframe src=&quot;data:text/html;charset=utf-8;base64,CiAgICBTdGF0aW9uIzo0MVNNQzxicj5TdGF0ZTogTWFyeSB3ZWxhw71hdHk8YnI+TnVtYmVyIGltYWdlcyBUcmFpbjogMzguMDxicj5OdW1iZXIgaW1hZ2VzIFRlc3Q6IDEuMA==&quot; style=&quot;position:absolute;width:100%;height:100%;left:0;top:0;border:none !important;&quot;&gt;&lt;/iframe&gt;&lt;/div&gt;&lt;/div&gt;`)[0];\n",
       "                popup_8b97ee795b29a9e09fb2d567041b20cc.setContent(i_frame_b7914c29b8fa533f2e86728e7e013f0f);\n",
       "            \n",
       "        \n",
       "\n",
       "        marker_76c6e010105823f9359999ec654129fd.bindPopup(popup_8b97ee795b29a9e09fb2d567041b20cc)\n",
       "        ;\n",
       "\n",
       "        \n",
       "    \n",
       "    \n",
       "            var marker_096d991722f6c8942e87bb23e48952d0 = L.marker(\n",
       "                [38.84313440995389, 61.84771238541818],\n",
       "                {}\n",
       "            ).addTo(marker_cluster_190bfa964b824896b1cc821a445303ce);\n",
       "        \n",
       "    \n",
       "        var custom_icon_ec75ee0d139d46f293ff6017607fe9a6 = L.icon({&quot;iconAnchor&quot;: [10, 30], &quot;iconSize&quot;: [32, 32], &quot;iconUrl&quot;: &quot;data:image/png;base64,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&quot;});\n",
       "        marker_096d991722f6c8942e87bb23e48952d0.setIcon(custom_icon_ec75ee0d139d46f293ff6017607fe9a6);\n",
       "        \n",
       "    \n",
       "        var popup_b08da5d353980ca59ce9b9a1e399c97d = L.popup({&quot;height&quot;: 150, &quot;maxWidth&quot;: 200, &quot;minWidth&quot;: 200});\n",
       "\n",
       "        \n",
       "            \n",
       "                var i_frame_c83a94dab924f4317db56a81cd51f619 = $(`&lt;div style=&quot;width:100%;&quot;&gt;&lt;div style=&quot;position:relative;width:100%;height:0;padding-bottom:60%;&quot;&gt;&lt;iframe src=&quot;data:text/html;charset=utf-8;base64,CiAgICBTdGF0aW9uIzo0MVNNRDxicj5TdGF0ZTogTWFyeSB3ZWxhw71hdHk8YnI+TnVtYmVyIGltYWdlcyBUcmFpbjogMTAuMDxicj5OdW1iZXIgaW1hZ2VzIFRlc3Q6IG5hbg==&quot; style=&quot;position:absolute;width:100%;height:100%;left:0;top:0;border:none !important;&quot;&gt;&lt;/iframe&gt;&lt;/div&gt;&lt;/div&gt;`)[0];\n",
       "                popup_b08da5d353980ca59ce9b9a1e399c97d.setContent(i_frame_c83a94dab924f4317db56a81cd51f619);\n",
       "            \n",
       "        \n",
       "\n",
       "        marker_096d991722f6c8942e87bb23e48952d0.bindPopup(popup_b08da5d353980ca59ce9b9a1e399c97d)\n",
       "        ;\n",
       "\n",
       "        \n",
       "    \n",
       "    \n",
       "            var marker_f780e56216e44446789e5b3476b159eb = L.marker(\n",
       "                [28.927921690784174, 9.0],\n",
       "                {}\n",
       "            ).addTo(marker_cluster_190bfa964b824896b1cc821a445303ce);\n",
       "        \n",
       "    \n",
       "        var custom_icon_79c5665f68a261e91181c48959d54c15 = L.icon({&quot;iconAnchor&quot;: [10, 30], &quot;iconSize&quot;: [32, 32], &quot;iconUrl&quot;: &quot;data:image/png;base64,iVBORw0KGgoAAAANSUhEUgAAAEAAAABACAYAAACqaXHeAAAABHNCSVQICAgIfAhkiAAAAAlwSFlzAAAB2AAAAdgB+lymcgAAABl0RVh0U29mdHdhcmUAd3d3Lmlua3NjYXBlLm9yZ5vuPBoAAA4oSURBVHic5Zt5dFR1lsc/r9YskKokBEIgLBIgAbKxCNhARBsQpwWXEdFpG5dWBxva1sPpI+PMeJzunjOjjuPoNAdt29buBppFgWZpQbBBRJFmD6uJgRBIUhCyVyVV9d77zR+vktTyXlUCFGO333PeOfn9fvd33+936977u/e+X+DGwgb8K1AGyIDQeWqAt4DUG7Eg6Ua8JAgfAPeaTCYy+2dhtphDBhVFxVVTjaIoAJ8At8d7QfEWQCEwPPCewcArQ4fl8Js1H9A/a4DuhNrqWv5xwUOcOn4MoAT4NJ4LNIW1ncBsNMk7r4FvErAVOAKsBdYArwA8vvBHhpsHyOjXl/vmP9zRLL6GNXQLlqC/H5Yk6X+FECkAkiS5hRBLgOVXwfd5YHbWwIHMmP09bHYbAE5nKnfdd3/UiaoQXHLVdDSbruLdPUKHCUwHdlosFmbPuVtSVcH2rZvw+3wC+Hvgwx4xlaTKFIcje9veL6XUtPSotDXVFzl68IDWEHDq5Cnee3sZXm+7V6hqDnChp5vqCTo04GeA9MavfsPtd8xGCPho8xx+8uQCCfgp8OeweQrQHIVv5pCbhsXcvNcn88j993Ku4uvwIRV4jjhvHroEMNJut3PbrDsAkCSYMn06ffr2o+6SayJQrzO3DHgW2KIzdubEsaP5x48eYUxhke6LhYCtGzZ0bP5rYF1gqAnYBBy/2k31BB0mcAgo3rJ7LzkjRnYOvrt8GZvXfxAxqaW5hfPnKpAkSRZCFACnwkgeBn5rtVrFhMm3SN8pmc6jTy3EbDbT5vGw/I3/5svPP+fowb+gCiEQYg6wOT5b7B4WA2Jg9iD1P9/4pThSUSXO1NQZPqcuXhbPLn2xI3B5R4efBCxFMxMBiH975TVx/HyteOjRH3YGPZIkXQDm3aA9RoUZeJ/Awu6b/1BUAZypqRN7Dp8WkiQJ4PMofG3AY4B4cMGj4lD5BTFu4uQOAUzhxgdiEeiIAxRgAfBdwL975w7cra2Gk4SAivJyhBAAl6Lw9wHV2hyBEHTMAbiIJoj/V5jD2meBER6Pu2Dn9o9wt7SQmJxMRt9+nQR7d+9i3aqVvP7yz/G43QAvEd1hJQBP+3w+UlKcbFm/Dm97uwy8gJYPfOOQjObZBSBMJpP4/fpN4uSFS+LZ5/85PHF5l9hqbAI+Dpv3y3gt/npiAvAmIJ5Y9GNxsKxKFIwd37GBJfQsTLUBjwC/AO7hG2D7HbBEGfsLkA0skv0yApDlTo39HeDqwXt8wHtXs8B4IzwZCkcjwIXzlTTWX6G+7jJoUVpLvBf2TUFvSZKqCbXfrd2ca0ZLZeujPO9f7wXHA3nASmAf8DqQ1s152YCwmkzCabNrj9UuHBarcFiswoQkAHec1txtxNMZFQBH78gawu++MxsA4Zfxuy4DMPXwDiraW0E7Jr1xWsNkID/K+L5oTvBakQrgtNk7OyRTl8txWKzBdLVxeH8WsBuwGhFIEo1GAkgASoGcRLN5bc0DTz7V3ias93664c4vrtQuF2AHVgPzoywgFcBh7RIA5i6Fc1pswXTxEMBcwFoyKZtJxYEKlKpAq6aByzdcoMktO40EMATISbJYeS5v3P1+P/dLio8XskbyE4+bivZWFCG+G2MBERoAkpZrCxGuAfHA3QA/XzKNKRMGaj2yD6pLAVi900WTWzaMA1IBZvUfzDO5WrwjmUwU9UplV9HtTDi4jWpfm1PbkWE8nwZwurme31ac7OxUmloQqkqtry2E7jrDCUzv1yeZW8YZ1x/BOBBKA0i1JXT1SKH2W+1rMwMpGNft0gA2Vn3NxqqIik8w4qEBdwHWuTOHYzJF9/NGAnACpNhsXT1BDizIftMwFoATYN73chmaHVRgdl8Bxc/BM83sOFAP8RHAXIC5M3NiEkY1Aac12INLnQrvDLXfs9F4PPPY+FA1vFwObU28u6XaSABFwJNEZqo9wWyANZtPs3F7eVevqoBHq+5dafYBPTEBQMKEQMUR6sGNkAqQ6gjlgUl7ZVqKoRN8HnggCt9u4/11scuKUTVg6ZHPePFYV8FHqFo03KYqIXTReEQKQPthU3tbQuiCYAN4Zew0hvZyRF99T6GoyA2NACwuO8Blvze6AMx2CcnS5UQkVQXA7KMjdospgNk/WIPZHJRzKX5Q/LjbowtxXHo/8p19Yuyoh5AVfKqmeQmBHyKqCXz2wfcpyMvo6r30FbS3sGz9BX702mmILoB0gCMno1XMiMUj7oh6Cjgd9tDegP1GUd8OSIAjMzGZPTNDzVlta0dpaMKjyow/uC0aj060KTK7XFX4Axp4NShO60u2LSmiP6oGpBnYb5ADMwpiUgBLmi0hLBIEVQXZ4sGBFatkwi/UmIHQr8pK+VnpvlhkUVGQmsHOW++J6DfUAIvZhM+v0tDU3tXbqkKLH3NXcGH06zkBHGGbB0LiCYfFSp3fG1MDmv2aw5kzI4e8nJ75BUVRefXt/Xhkv+64kQDSZUUlvfB/YvE3WnzgGI0UQHhGWOf3JqAlX+0RxGF4cM4o5s/Ji0UWAq9P4dW39xuO6wkgAUhIMFsYmRK2P1VFyAoKghPuJoihASlWHQFIXafKmGQn1d62y22q0q3y+D+9vDvqZvQQ9B1CF3oCSAUY7Ujno9vvDRlQ29qRrzQgC8GQfRsRV6EBIkgDlg0fT6vd9tLIXWuiCmCMsw8ScLaqibNVV3dlYHx6P91+PQGkQXgaG0Dg17NIEr3MFloU2ciBGZuAhOYHAh69l9XaN8bauTs7h5n9B+O7ylNAkgJ1CVmJGDPUAD0BhNqvjRZFTkGL2cM5a8UQPSGimYEAmmU/e2orC4BngHGBJ1dvjluW8SiRjizdnkivQG6iCkGVJ7JgLaGZo15eqCcALQbQE4A5OCO0csGLCXAQeX9AOwWCfECVp4XShjpKG+s46qrmREsD1VpN4O7AA4DVasHvD7WI1ZVnWLz/E93CQ7LFyt5Z8xmQ1It5ezaz26V/p2Jm/8GsmDQrot9QAxw6DkwE5dYpoRlhsADMwACAD8+XsfLsaUob62jwhTp5i8XM6FEjKC4aRXFhLsVj+lJcmMNjC19m/abPQmjLmhsQwNBsB2nOxM7+ivONNDS1U9vuZkBSL0431SNJMHZMZteaheDQcRcVrfq+o2cmEPQdJbUrI5yCdseoOPAUoH1fZHtNJQCJiQncPKGQosJRjC0aQ3HRaPLHjCQxMRBoCR/4L+ouMBj//tOSkGNw/qI/snpT6N0Mm9XMgc0LOtten0LC8FcNeXZbAC1+H8cb6zhSe5bS1kb2N1/pGHovmM7pSKGocBTFRaM7n9yRN2GxXHsB+p0/HOXPX5zvbB84VhNBIysqTy3d1tlWlOiO0/AUCDaBDVXlLNy/EznMC2f17xfY5KjOTd80dFC3NtMTpNk1td+5t5KdeytDxiSgT2A83Z6Iq93D2yuPRPBItydG9EE3NeBw/SVkVaVk2kRmzZjW+cv263ud01UDPD5sDMN6OfCqkcfY4OQUBienALB66t+x/0pkhV0CJmdk6fI21IDwahDA4qcXcN89szvbPp+fCxe71DAt1YnTqS2moaGJhsYux5M9MAurVXvdxepavF6tJGW1WskeEP06nd1sZlbWkKg0AJmJycwZOMyYoJtxQCCRsSELlfKWRs659a8E3jpjPl/sO9TZTkiwc/arPciyQk5eSecmAUqmTWTXx3/gnXdX88TC50P4vPbyUp5dOMNw3fvrally6FPdhGZQcm9WTLmTRLOF/zixn3WVZRE0kgQ/uGkUi4cVRIwFCyANrSA5CODBPVspb23Ep3RJzeFICZlc/vU5zGaJ6ZMHU3r6Mq46N1VVNfj9frxeH5kZyYwZmcEnn1dSVnaucw5Afm4GFrOJwydclJWfM9w8wPaac5xquqI7Vulu5lRTPWPT+vL7ilO42j26dCvPnjYUwKtoRciBwQMnm66QnuakqHA0Bfm5TLy5iNtunRzBIMFu4eMVDzDv6Y2s3XI6ZOy2Wwaz4o27sOdEHkMvLJpMSm87dy5Yq79rHax6c47uMSiCQiS7zUx72ZLOdneOwedMJpOUl5tDQX4uhQV5FOTnUpCfy4CsTMOJHfC0+Rk29S1cdZFfuv+4o5xhU9/Cr2N7P35xR8yPFuH48kg15qDvi1XVkaapqiLkh/DLsY9BaVB2FscPb4tKqIeSqRNZ9+GfqDivVVqHDslmxPChKIpCZr8Mal2XaXVrfmDWzGkATJ40FpvNyqUrmqomJNiZNmVC1PfYApWo1399gNd/fSBiPCFQqrOZzfjbVeY9vdGQRziuKTpZu2qZ4VjNef28fe5dM/C2fBXaGSMS/IehefhVFVUnG+ibkMQop3aK/NfYEj67rM/n9kz9+CSe9wOuGwYk9eKF/Ikx6aZnZjM9M9uYoJvHIOerqnnk8SU0txjfFr1esFotvPQvi5hZMrTbcxQh+NPFs9T79KtoFsnErKzBhtFfCK1ep8tVx569+5F1JHa9YTKZOF9VA3RfALtcVTz6RXSfNX/ISN6ccFtMXroCmDC+gKbLpSGBTLxgtVrplWzpVjbYgSafViUeNeFmiqZMDRmrq61l+6oVtMUoM/azJVDta6s19AFJSYkkJcVWoesCcXWCHlFYxJzHngjpKy89xvZVK2LOfS93Els9jbNjXZT8m0Wqxcb3B+c1/FWcAvFAldfDa8dPDv/WCuCHZ77kpKd57bfWBJpkP6oQzm+tADogAcJiMTMoO/p1svhCgNCOLdelBtyedvonJhvG727ZT523jeTeKSQ7Qm+RyD4f9ZdcJFmsZOgFQoH0/qLXgxz4bLYL/X9j/zY8H/0f2l9mt847LzUAAAAASUVORK5CYII=&quot;});\n",
       "        marker_f780e56216e44446789e5b3476b159eb.setIcon(custom_icon_79c5665f68a261e91181c48959d54c15);\n",
       "        \n",
       "    \n",
       "        var popup_c46637816ba14664bf9597070d15ad02 = L.popup({&quot;height&quot;: 150, &quot;maxWidth&quot;: 200, &quot;minWidth&quot;: 200});\n",
       "\n",
       "        \n",
       "            \n",
       "                var i_frame_47e15aae591b71b7996197f37fa76879 = $(`&lt;div style=&quot;width:100%;&quot;&gt;&lt;div style=&quot;position:relative;width:100%;height:0;padding-bottom:60%;&quot;&gt;&lt;iframe src=&quot;data:text/html;charset=utf-8;base64,CiAgICBTdGF0aW9uIzozMlJOVDxicj5TdGF0ZTogSWxsaXppPGJyPk51bWJlciBpbWFnZXMgVHJhaW46IDUuMDxicj5OdW1iZXIgaW1hZ2VzIFRlc3Q6IG5hbg==&quot; style=&quot;position:absolute;width:100%;height:100%;left:0;top:0;border:none !important;&quot;&gt;&lt;/iframe&gt;&lt;/div&gt;&lt;/div&gt;`)[0];\n",
       "                popup_c46637816ba14664bf9597070d15ad02.setContent(i_frame_47e15aae591b71b7996197f37fa76879);\n",
       "            \n",
       "        \n",
       "\n",
       "        marker_f780e56216e44446789e5b3476b159eb.bindPopup(popup_c46637816ba14664bf9597070d15ad02)\n",
       "        ;\n",
       "\n",
       "        \n",
       "    \n",
       "    \n",
       "            var marker_63e365ec3abca27f3560357cad7cd0b8 = L.marker(\n",
       "                [32.53735523621132, -104.99999999999999],\n",
       "                {}\n",
       "            ).addTo(marker_cluster_190bfa964b824896b1cc821a445303ce);\n",
       "        \n",
       "    \n",
       "        var custom_icon_4ff1d7342c5251fd9c4c9295757a506f = L.icon({&quot;iconAnchor&quot;: [10, 30], &quot;iconSize&quot;: [32, 32], &quot;iconUrl&quot;: &quot;data:image/png;base64,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&quot;});\n",
       "        marker_63e365ec3abca27f3560357cad7cd0b8.setIcon(custom_icon_4ff1d7342c5251fd9c4c9295757a506f);\n",
       "        \n",
       "    \n",
       "        var popup_53084a1a03fe98ca24982c4bf41b7b07 = L.popup({&quot;height&quot;: 150, &quot;maxWidth&quot;: 200, &quot;minWidth&quot;: 200});\n",
       "\n",
       "        \n",
       "            \n",
       "                var i_frame_6f2df55f27796a6c5e04df8259718167 = $(`&lt;div style=&quot;width:100%;&quot;&gt;&lt;div style=&quot;position:relative;width:100%;height:0;padding-bottom:60%;&quot;&gt;&lt;iframe src=&quot;data:text/html;charset=utf-8;base64,CiAgICBTdGF0aW9uIzoxM1NFUzxicj5TdGF0ZTogTmV3IE1leGljbzxicj5OdW1iZXIgaW1hZ2VzIFRyYWluOiBuYW48YnI+TnVtYmVyIGltYWdlcyBUZXN0OiAxLjA=&quot; style=&quot;position:absolute;width:100%;height:100%;left:0;top:0;border:none !important;&quot;&gt;&lt;/iframe&gt;&lt;/div&gt;&lt;/div&gt;`)[0];\n",
       "                popup_53084a1a03fe98ca24982c4bf41b7b07.setContent(i_frame_6f2df55f27796a6c5e04df8259718167);\n",
       "            \n",
       "        \n",
       "\n",
       "        marker_63e365ec3abca27f3560357cad7cd0b8.bindPopup(popup_53084a1a03fe98ca24982c4bf41b7b07)\n",
       "        ;\n",
       "\n",
       "        \n",
       "    \n",
       "    \n",
       "            marker_cluster_190bfa964b824896b1cc821a445303ce.addTo(map_d071a997681cd3e688b1e5b13909ebbf);\n",
       "        \n",
       "&lt;/script&gt;\n",
       "&lt;/html&gt;\" style=\"position:absolute;width:100%;height:100%;left:0;top:0;border:none !important;\" allowfullscreen webkitallowfullscreen mozallowfullscreen></iframe></div></div>"
      ],
      "text/plain": [
       "<folium.folium.Map at 0x22a0fff8970>"
      ]
     },
     "execution_count": 64,
     "metadata": {},
     "output_type": "execute_result"
    }
   ],
   "source": [
    "# let's start again with a clean copy of the map of San Francisco\n",
    "latitudes = list(df['lat'])\n",
    "longitudes = list(df['lon'])\n",
    "\n",
    "methane_stations_map = folium.Map(location = [31.59603567113855, 5.83841112451701], zoom_start = 2)\n",
    "\n",
    "# instantiate a mark cluster object for the incidents in the dataframe\n",
    "ch4_stations = plugins.MarkerCluster().add_to(methane_stations_map)\n",
    "\n",
    "# loop through the dataframe and add each data point to the mark cluster\n",
    "for station,lat, lng, state,count_images_train, count_images_test  in zip(df.index, df.lat, df.lon, df.state, df.count_images_train, df.count_images_test):\n",
    "    icon_path = r\"./assets/factory.png\"\n",
    "    icon = CustomIcon(\n",
    "        icon_image=icon_path,\n",
    "        icon_size=(32, 32),\n",
    "        icon_anchor=(10, 30),\n",
    "    )\n",
    "    iframe = folium.IFrame('Station#:' + str(station) + '<br>' + 'State: ' + state + '<br>' + 'Number images Train: ' + str(count_images_train) + '<br>' + 'Number images Test: ' + str(count_images_test))\n",
    "    popup = folium.Popup(iframe, min_width=200, max_width=200, height = 150)\n",
    "\n",
    "    folium.Marker(\n",
    "        location=[lat, lng],\n",
    "        icon = icon,\n",
    "        popup= popup,\n",
    "    ).add_to(ch4_stations)\n",
    "\n",
    "# display map\n",
    "methane_stations_map"
   ]
  },
  {
   "cell_type": "code",
   "execution_count": 115,
   "metadata": {},
   "outputs": [],
   "source": [
    "methane_stations_map.save('map.html')"
   ]
  },
  {
   "cell_type": "markdown",
   "metadata": {},
   "source": [
    "## Distribtion of the train and test"
   ]
  },
  {
   "cell_type": "markdown",
   "metadata": {},
   "source": [
    "### Distribution of train images"
   ]
  },
  {
   "cell_type": "code",
   "execution_count": 112,
   "metadata": {},
   "outputs": [
    {
     "name": "stdout",
     "output_type": "stream",
     "text": [
      "Columns: Index(['country', 'state', 'count_images'], dtype='object')\n"
     ]
    },
    {
     "data": {
      "application/vnd.plotly.v1+json": {
       "config": {
        "plotlyServerURL": "https://plot.ly"
       },
       "data": [
        {
         "alignmentgroup": "True",
         "hovertemplate": "state=Ouargla<br>country=%{x}<br>Count of Images=%{y}<extra></extra>",
         "legendgroup": "Ouargla",
         "marker": {
          "color": "#636efa",
          "pattern": {
           "shape": ""
          }
         },
         "name": "Ouargla",
         "offsetgroup": "Ouargla",
         "orientation": "v",
         "showlegend": true,
         "textposition": "auto",
         "type": "bar",
         "x": [
          "Algérie ⵍⵣⵣⴰⵢⴻⵔ الجزائر"
         ],
         "xaxis": "x",
         "y": [
          1745
         ],
         "yaxis": "y"
        },
        {
         "alignmentgroup": "True",
         "hovertemplate": "state=Ghardaïa<br>country=%{x}<br>Count of Images=%{y}<extra></extra>",
         "legendgroup": "Ghardaïa",
         "marker": {
          "color": "#EF553B",
          "pattern": {
           "shape": ""
          }
         },
         "name": "Ghardaïa",
         "offsetgroup": "Ghardaïa",
         "orientation": "v",
         "showlegend": true,
         "textposition": "auto",
         "type": "bar",
         "x": [
          "Algérie ⵍⵣⵣⴰⵢⴻⵔ الجزائر"
         ],
         "xaxis": "x",
         "y": [
          285
         ],
         "yaxis": "y"
        },
        {
         "alignmentgroup": "True",
         "hovertemplate": "state=Illizi<br>country=%{x}<br>Count of Images=%{y}<extra></extra>",
         "legendgroup": "Illizi",
         "marker": {
          "color": "#00cc96",
          "pattern": {
           "shape": ""
          }
         },
         "name": "Illizi",
         "offsetgroup": "Illizi",
         "orientation": "v",
         "showlegend": true,
         "textposition": "auto",
         "type": "bar",
         "x": [
          "Algérie ⵍⵣⵣⴰⵢⴻⵔ الجزائر"
         ],
         "xaxis": "x",
         "y": [
          280
         ],
         "yaxis": "y"
        },
        {
         "alignmentgroup": "True",
         "hovertemplate": "state=Adrar<br>country=%{x}<br>Count of Images=%{y}<extra></extra>",
         "legendgroup": "Adrar",
         "marker": {
          "color": "#ab63fa",
          "pattern": {
           "shape": ""
          }
         },
         "name": "Adrar",
         "offsetgroup": "Adrar",
         "orientation": "v",
         "showlegend": true,
         "textposition": "auto",
         "type": "bar",
         "x": [
          "Algérie ⵍⵣⵣⴰⵢⴻⵔ الجزائر"
         ],
         "xaxis": "x",
         "y": [
          10
         ],
         "yaxis": "y"
        },
        {
         "alignmentgroup": "True",
         "hovertemplate": "state=Balkan welaýaty<br>country=%{x}<br>Count of Images=%{y}<extra></extra>",
         "legendgroup": "Balkan welaýaty",
         "marker": {
          "color": "#FFA15A",
          "pattern": {
           "shape": ""
          }
         },
         "name": "Balkan welaýaty",
         "offsetgroup": "Balkan welaýaty",
         "orientation": "v",
         "showlegend": true,
         "textposition": "auto",
         "type": "bar",
         "x": [
          "Türkmenistan"
         ],
         "xaxis": "x",
         "y": [
          450
         ],
         "yaxis": "y"
        },
        {
         "alignmentgroup": "True",
         "hovertemplate": "state=Lebap welaýaty<br>country=%{x}<br>Count of Images=%{y}<extra></extra>",
         "legendgroup": "Lebap welaýaty",
         "marker": {
          "color": "#19d3f3",
          "pattern": {
           "shape": ""
          }
         },
         "name": "Lebap welaýaty",
         "offsetgroup": "Lebap welaýaty",
         "orientation": "v",
         "showlegend": true,
         "textposition": "auto",
         "type": "bar",
         "x": [
          "Türkmenistan"
         ],
         "xaxis": "x",
         "y": [
          104
         ],
         "yaxis": "y"
        },
        {
         "alignmentgroup": "True",
         "hovertemplate": "state=Mary welaýaty<br>country=%{x}<br>Count of Images=%{y}<extra></extra>",
         "legendgroup": "Mary welaýaty",
         "marker": {
          "color": "#FF6692",
          "pattern": {
           "shape": ""
          }
         },
         "name": "Mary welaýaty",
         "offsetgroup": "Mary welaýaty",
         "orientation": "v",
         "showlegend": true,
         "textposition": "auto",
         "type": "bar",
         "x": [
          "Türkmenistan"
         ],
         "xaxis": "x",
         "y": [
          48
         ],
         "yaxis": "y"
        },
        {
         "alignmentgroup": "True",
         "hovertemplate": "state=Texas<br>country=%{x}<br>Count of Images=%{y}<extra></extra>",
         "legendgroup": "Texas",
         "marker": {
          "color": "#B6E880",
          "pattern": {
           "shape": ""
          }
         },
         "name": "Texas",
         "offsetgroup": "Texas",
         "orientation": "v",
         "showlegend": true,
         "textposition": "auto",
         "type": "bar",
         "x": [
          "United States"
         ],
         "xaxis": "x",
         "y": [
          390
         ],
         "yaxis": "y"
        },
        {
         "alignmentgroup": "True",
         "hovertemplate": "state=Colorado<br>country=%{x}<br>Count of Images=%{y}<extra></extra>",
         "legendgroup": "Colorado",
         "marker": {
          "color": "#FF97FF",
          "pattern": {
           "shape": ""
          }
         },
         "name": "Colorado",
         "offsetgroup": "Colorado",
         "orientation": "v",
         "showlegend": true,
         "textposition": "auto",
         "type": "bar",
         "x": [
          "United States"
         ],
         "xaxis": "x",
         "y": [
          15
         ],
         "yaxis": "y"
        },
        {
         "alignmentgroup": "True",
         "hovertemplate": "state=Georgia<br>country=%{x}<br>Count of Images=%{y}<extra></extra>",
         "legendgroup": "Georgia",
         "marker": {
          "color": "#FECB52",
          "pattern": {
           "shape": ""
          }
         },
         "name": "Georgia",
         "offsetgroup": "Georgia",
         "orientation": "v",
         "showlegend": true,
         "textposition": "auto",
         "type": "bar",
         "x": [
          "United States"
         ],
         "xaxis": "x",
         "y": [
          5
         ],
         "yaxis": "y"
        },
        {
         "alignmentgroup": "True",
         "hovertemplate": "state=Kansas<br>country=%{x}<br>Count of Images=%{y}<extra></extra>",
         "legendgroup": "Kansas",
         "marker": {
          "color": "#636efa",
          "pattern": {
           "shape": ""
          }
         },
         "name": "Kansas",
         "offsetgroup": "Kansas",
         "orientation": "v",
         "showlegend": true,
         "textposition": "auto",
         "type": "bar",
         "x": [
          "United States"
         ],
         "xaxis": "x",
         "y": [
          5
         ],
         "yaxis": "y"
        }
       ],
       "layout": {
        "barmode": "stack",
        "legend": {
         "title": {
          "text": "state"
         },
         "tracegroupgap": 0
        },
        "template": {
         "data": {
          "bar": [
           {
            "error_x": {
             "color": "#2a3f5f"
            },
            "error_y": {
             "color": "#2a3f5f"
            },
            "marker": {
             "line": {
              "color": "#E5ECF6",
              "width": 0.5
             },
             "pattern": {
              "fillmode": "overlay",
              "size": 10,
              "solidity": 0.2
             }
            },
            "type": "bar"
           }
          ],
          "barpolar": [
           {
            "marker": {
             "line": {
              "color": "#E5ECF6",
              "width": 0.5
             },
             "pattern": {
              "fillmode": "overlay",
              "size": 10,
              "solidity": 0.2
             }
            },
            "type": "barpolar"
           }
          ],
          "carpet": [
           {
            "aaxis": {
             "endlinecolor": "#2a3f5f",
             "gridcolor": "white",
             "linecolor": "white",
             "minorgridcolor": "white",
             "startlinecolor": "#2a3f5f"
            },
            "baxis": {
             "endlinecolor": "#2a3f5f",
             "gridcolor": "white",
             "linecolor": "white",
             "minorgridcolor": "white",
             "startlinecolor": "#2a3f5f"
            },
            "type": "carpet"
           }
          ],
          "choropleth": [
           {
            "colorbar": {
             "outlinewidth": 0,
             "ticks": ""
            },
            "type": "choropleth"
           }
          ],
          "contour": [
           {
            "colorbar": {
             "outlinewidth": 0,
             "ticks": ""
            },
            "colorscale": [
             [
              0,
              "#0d0887"
             ],
             [
              0.1111111111111111,
              "#46039f"
             ],
             [
              0.2222222222222222,
              "#7201a8"
             ],
             [
              0.3333333333333333,
              "#9c179e"
             ],
             [
              0.4444444444444444,
              "#bd3786"
             ],
             [
              0.5555555555555556,
              "#d8576b"
             ],
             [
              0.6666666666666666,
              "#ed7953"
             ],
             [
              0.7777777777777778,
              "#fb9f3a"
             ],
             [
              0.8888888888888888,
              "#fdca26"
             ],
             [
              1,
              "#f0f921"
             ]
            ],
            "type": "contour"
           }
          ],
          "contourcarpet": [
           {
            "colorbar": {
             "outlinewidth": 0,
             "ticks": ""
            },
            "type": "contourcarpet"
           }
          ],
          "heatmap": [
           {
            "colorbar": {
             "outlinewidth": 0,
             "ticks": ""
            },
            "colorscale": [
             [
              0,
              "#0d0887"
             ],
             [
              0.1111111111111111,
              "#46039f"
             ],
             [
              0.2222222222222222,
              "#7201a8"
             ],
             [
              0.3333333333333333,
              "#9c179e"
             ],
             [
              0.4444444444444444,
              "#bd3786"
             ],
             [
              0.5555555555555556,
              "#d8576b"
             ],
             [
              0.6666666666666666,
              "#ed7953"
             ],
             [
              0.7777777777777778,
              "#fb9f3a"
             ],
             [
              0.8888888888888888,
              "#fdca26"
             ],
             [
              1,
              "#f0f921"
             ]
            ],
            "type": "heatmap"
           }
          ],
          "heatmapgl": [
           {
            "colorbar": {
             "outlinewidth": 0,
             "ticks": ""
            },
            "colorscale": [
             [
              0,
              "#0d0887"
             ],
             [
              0.1111111111111111,
              "#46039f"
             ],
             [
              0.2222222222222222,
              "#7201a8"
             ],
             [
              0.3333333333333333,
              "#9c179e"
             ],
             [
              0.4444444444444444,
              "#bd3786"
             ],
             [
              0.5555555555555556,
              "#d8576b"
             ],
             [
              0.6666666666666666,
              "#ed7953"
             ],
             [
              0.7777777777777778,
              "#fb9f3a"
             ],
             [
              0.8888888888888888,
              "#fdca26"
             ],
             [
              1,
              "#f0f921"
             ]
            ],
            "type": "heatmapgl"
           }
          ],
          "histogram": [
           {
            "marker": {
             "pattern": {
              "fillmode": "overlay",
              "size": 10,
              "solidity": 0.2
             }
            },
            "type": "histogram"
           }
          ],
          "histogram2d": [
           {
            "colorbar": {
             "outlinewidth": 0,
             "ticks": ""
            },
            "colorscale": [
             [
              0,
              "#0d0887"
             ],
             [
              0.1111111111111111,
              "#46039f"
             ],
             [
              0.2222222222222222,
              "#7201a8"
             ],
             [
              0.3333333333333333,
              "#9c179e"
             ],
             [
              0.4444444444444444,
              "#bd3786"
             ],
             [
              0.5555555555555556,
              "#d8576b"
             ],
             [
              0.6666666666666666,
              "#ed7953"
             ],
             [
              0.7777777777777778,
              "#fb9f3a"
             ],
             [
              0.8888888888888888,
              "#fdca26"
             ],
             [
              1,
              "#f0f921"
             ]
            ],
            "type": "histogram2d"
           }
          ],
          "histogram2dcontour": [
           {
            "colorbar": {
             "outlinewidth": 0,
             "ticks": ""
            },
            "colorscale": [
             [
              0,
              "#0d0887"
             ],
             [
              0.1111111111111111,
              "#46039f"
             ],
             [
              0.2222222222222222,
              "#7201a8"
             ],
             [
              0.3333333333333333,
              "#9c179e"
             ],
             [
              0.4444444444444444,
              "#bd3786"
             ],
             [
              0.5555555555555556,
              "#d8576b"
             ],
             [
              0.6666666666666666,
              "#ed7953"
             ],
             [
              0.7777777777777778,
              "#fb9f3a"
             ],
             [
              0.8888888888888888,
              "#fdca26"
             ],
             [
              1,
              "#f0f921"
             ]
            ],
            "type": "histogram2dcontour"
           }
          ],
          "mesh3d": [
           {
            "colorbar": {
             "outlinewidth": 0,
             "ticks": ""
            },
            "type": "mesh3d"
           }
          ],
          "parcoords": [
           {
            "line": {
             "colorbar": {
              "outlinewidth": 0,
              "ticks": ""
             }
            },
            "type": "parcoords"
           }
          ],
          "pie": [
           {
            "automargin": true,
            "type": "pie"
           }
          ],
          "scatter": [
           {
            "fillpattern": {
             "fillmode": "overlay",
             "size": 10,
             "solidity": 0.2
            },
            "type": "scatter"
           }
          ],
          "scatter3d": [
           {
            "line": {
             "colorbar": {
              "outlinewidth": 0,
              "ticks": ""
             }
            },
            "marker": {
             "colorbar": {
              "outlinewidth": 0,
              "ticks": ""
             }
            },
            "type": "scatter3d"
           }
          ],
          "scattercarpet": [
           {
            "marker": {
             "colorbar": {
              "outlinewidth": 0,
              "ticks": ""
             }
            },
            "type": "scattercarpet"
           }
          ],
          "scattergeo": [
           {
            "marker": {
             "colorbar": {
              "outlinewidth": 0,
              "ticks": ""
             }
            },
            "type": "scattergeo"
           }
          ],
          "scattergl": [
           {
            "marker": {
             "colorbar": {
              "outlinewidth": 0,
              "ticks": ""
             }
            },
            "type": "scattergl"
           }
          ],
          "scattermapbox": [
           {
            "marker": {
             "colorbar": {
              "outlinewidth": 0,
              "ticks": ""
             }
            },
            "type": "scattermapbox"
           }
          ],
          "scatterpolar": [
           {
            "marker": {
             "colorbar": {
              "outlinewidth": 0,
              "ticks": ""
             }
            },
            "type": "scatterpolar"
           }
          ],
          "scatterpolargl": [
           {
            "marker": {
             "colorbar": {
              "outlinewidth": 0,
              "ticks": ""
             }
            },
            "type": "scatterpolargl"
           }
          ],
          "scatterternary": [
           {
            "marker": {
             "colorbar": {
              "outlinewidth": 0,
              "ticks": ""
             }
            },
            "type": "scatterternary"
           }
          ],
          "surface": [
           {
            "colorbar": {
             "outlinewidth": 0,
             "ticks": ""
            },
            "colorscale": [
             [
              0,
              "#0d0887"
             ],
             [
              0.1111111111111111,
              "#46039f"
             ],
             [
              0.2222222222222222,
              "#7201a8"
             ],
             [
              0.3333333333333333,
              "#9c179e"
             ],
             [
              0.4444444444444444,
              "#bd3786"
             ],
             [
              0.5555555555555556,
              "#d8576b"
             ],
             [
              0.6666666666666666,
              "#ed7953"
             ],
             [
              0.7777777777777778,
              "#fb9f3a"
             ],
             [
              0.8888888888888888,
              "#fdca26"
             ],
             [
              1,
              "#f0f921"
             ]
            ],
            "type": "surface"
           }
          ],
          "table": [
           {
            "cells": {
             "fill": {
              "color": "#EBF0F8"
             },
             "line": {
              "color": "white"
             }
            },
            "header": {
             "fill": {
              "color": "#C8D4E3"
             },
             "line": {
              "color": "white"
             }
            },
            "type": "table"
           }
          ]
         },
         "layout": {
          "annotationdefaults": {
           "arrowcolor": "#2a3f5f",
           "arrowhead": 0,
           "arrowwidth": 1
          },
          "autotypenumbers": "strict",
          "coloraxis": {
           "colorbar": {
            "outlinewidth": 0,
            "ticks": ""
           }
          },
          "colorscale": {
           "diverging": [
            [
             0,
             "#8e0152"
            ],
            [
             0.1,
             "#c51b7d"
            ],
            [
             0.2,
             "#de77ae"
            ],
            [
             0.3,
             "#f1b6da"
            ],
            [
             0.4,
             "#fde0ef"
            ],
            [
             0.5,
             "#f7f7f7"
            ],
            [
             0.6,
             "#e6f5d0"
            ],
            [
             0.7,
             "#b8e186"
            ],
            [
             0.8,
             "#7fbc41"
            ],
            [
             0.9,
             "#4d9221"
            ],
            [
             1,
             "#276419"
            ]
           ],
           "sequential": [
            [
             0,
             "#0d0887"
            ],
            [
             0.1111111111111111,
             "#46039f"
            ],
            [
             0.2222222222222222,
             "#7201a8"
            ],
            [
             0.3333333333333333,
             "#9c179e"
            ],
            [
             0.4444444444444444,
             "#bd3786"
            ],
            [
             0.5555555555555556,
             "#d8576b"
            ],
            [
             0.6666666666666666,
             "#ed7953"
            ],
            [
             0.7777777777777778,
             "#fb9f3a"
            ],
            [
             0.8888888888888888,
             "#fdca26"
            ],
            [
             1,
             "#f0f921"
            ]
           ],
           "sequentialminus": [
            [
             0,
             "#0d0887"
            ],
            [
             0.1111111111111111,
             "#46039f"
            ],
            [
             0.2222222222222222,
             "#7201a8"
            ],
            [
             0.3333333333333333,
             "#9c179e"
            ],
            [
             0.4444444444444444,
             "#bd3786"
            ],
            [
             0.5555555555555556,
             "#d8576b"
            ],
            [
             0.6666666666666666,
             "#ed7953"
            ],
            [
             0.7777777777777778,
             "#fb9f3a"
            ],
            [
             0.8888888888888888,
             "#fdca26"
            ],
            [
             1,
             "#f0f921"
            ]
           ]
          },
          "colorway": [
           "#636efa",
           "#EF553B",
           "#00cc96",
           "#ab63fa",
           "#FFA15A",
           "#19d3f3",
           "#FF6692",
           "#B6E880",
           "#FF97FF",
           "#FECB52"
          ],
          "font": {
           "color": "#2a3f5f"
          },
          "geo": {
           "bgcolor": "white",
           "lakecolor": "white",
           "landcolor": "#E5ECF6",
           "showlakes": true,
           "showland": true,
           "subunitcolor": "white"
          },
          "hoverlabel": {
           "align": "left"
          },
          "hovermode": "closest",
          "mapbox": {
           "style": "light"
          },
          "paper_bgcolor": "white",
          "plot_bgcolor": "#E5ECF6",
          "polar": {
           "angularaxis": {
            "gridcolor": "white",
            "linecolor": "white",
            "ticks": ""
           },
           "bgcolor": "#E5ECF6",
           "radialaxis": {
            "gridcolor": "white",
            "linecolor": "white",
            "ticks": ""
           }
          },
          "scene": {
           "xaxis": {
            "backgroundcolor": "#E5ECF6",
            "gridcolor": "white",
            "gridwidth": 2,
            "linecolor": "white",
            "showbackground": true,
            "ticks": "",
            "zerolinecolor": "white"
           },
           "yaxis": {
            "backgroundcolor": "#E5ECF6",
            "gridcolor": "white",
            "gridwidth": 2,
            "linecolor": "white",
            "showbackground": true,
            "ticks": "",
            "zerolinecolor": "white"
           },
           "zaxis": {
            "backgroundcolor": "#E5ECF6",
            "gridcolor": "white",
            "gridwidth": 2,
            "linecolor": "white",
            "showbackground": true,
            "ticks": "",
            "zerolinecolor": "white"
           }
          },
          "shapedefaults": {
           "line": {
            "color": "#2a3f5f"
           }
          },
          "ternary": {
           "aaxis": {
            "gridcolor": "white",
            "linecolor": "white",
            "ticks": ""
           },
           "baxis": {
            "gridcolor": "white",
            "linecolor": "white",
            "ticks": ""
           },
           "bgcolor": "#E5ECF6",
           "caxis": {
            "gridcolor": "white",
            "linecolor": "white",
            "ticks": ""
           }
          },
          "title": {
           "x": 0.05
          },
          "xaxis": {
           "automargin": true,
           "gridcolor": "white",
           "linecolor": "white",
           "ticks": "",
           "title": {
            "standoff": 15
           },
           "zerolinecolor": "white",
           "zerolinewidth": 2
          },
          "yaxis": {
           "automargin": true,
           "gridcolor": "white",
           "linecolor": "white",
           "ticks": "",
           "title": {
            "standoff": 15
           },
           "zerolinecolor": "white",
           "zerolinewidth": 2
          }
         }
        },
        "title": {
         "text": "Count of Images by Country and State (Train set)"
        },
        "xaxis": {
         "anchor": "y",
         "domain": [
          0,
          1
         ],
         "title": {
          "text": "country"
         }
        },
        "yaxis": {
         "anchor": "x",
         "domain": [
          0,
          1
         ],
         "title": {
          "text": "Count of Images"
         }
        }
       }
      }
     },
     "metadata": {},
     "output_type": "display_data"
    }
   ],
   "source": [
    "import pandas as pd\n",
    "import plotly.express as px\n",
    "\n",
    "\n",
    "import pandas as pd\n",
    "import plotly.express as px\n",
    "\n",
    "def flatten_data(dict_images_by_state_train):\n",
    "    # Flatten the dictionary and calculate the count of images\n",
    "    flattened_data = []\n",
    "    for country, states in dict_images_by_state_train.items():\n",
    "        for state, images in states.items():\n",
    "            if  isinstance(images, list):\n",
    "                count_images = len(images)\n",
    "            else: \n",
    "                count_images = images\n",
    "            flattened_data.append({\n",
    "                'country': country,\n",
    "                'state': state,\n",
    "                'count_images': count_images\n",
    "            })\n",
    "    return flattened_data\n",
    "\n",
    "def stacked_bar_images_bycountry_state(images_by_state_train, title = \"Count of Images by Country and State (Train set)\"):\n",
    "    # Check if images_by_state_train is not a list\n",
    "    if not isinstance(images_by_state_train, list):  \n",
    "        flattened_data = flatten_data(images_by_state_train)\n",
    "    else:\n",
    "        flattened_data = images_by_state_train\n",
    "    \n",
    "    # Convert to DataFrame\n",
    "    df = pd.DataFrame(flattened_data)\n",
    "\n",
    "    # Filter by countries if provided\n",
    "    df = df[df['country'].isin(countries)]\n",
    "    \n",
    "    # Create a stacked bar chart\n",
    "    fig = px.bar(df, x='country', y='count_images', color='state', \n",
    "                title=title, \n",
    "                labels={'count_images': 'Count of Images'}, barmode='stack')\n",
    "\n",
    "    fig.show()\n",
    "\n",
    "dict_images_by_state_train = images_by_country_and_state(stations_info_train, print_results=False)\n",
    "stacked_bar_images_bycountry_state(dict_images_by_state_train)"
   ]
  },
  {
   "cell_type": "markdown",
   "metadata": {},
   "source": [
    "## Distribution in the Test set"
   ]
  },
  {
   "cell_type": "code",
   "execution_count": 113,
   "metadata": {},
   "outputs": [
    {
     "name": "stdout",
     "output_type": "stream",
     "text": [
      "Columns: Index(['country', 'state', 'count_images'], dtype='object')\n"
     ]
    },
    {
     "data": {
      "application/vnd.plotly.v1+json": {
       "config": {
        "plotlyServerURL": "https://plot.ly"
       },
       "data": [
        {
         "alignmentgroup": "True",
         "hovertemplate": "state=Illizi<br>country=%{x}<br>Count of Images=%{y}<extra></extra>",
         "legendgroup": "Illizi",
         "marker": {
          "color": "#636efa",
          "pattern": {
           "shape": ""
          }
         },
         "name": "Illizi",
         "offsetgroup": "Illizi",
         "orientation": "v",
         "showlegend": true,
         "textposition": "auto",
         "type": "bar",
         "x": [
          "Algérie ⵍⵣⵣⴰⵢⴻⵔ الجزائر"
         ],
         "xaxis": "x",
         "y": [
          9
         ],
         "yaxis": "y"
        },
        {
         "alignmentgroup": "True",
         "hovertemplate": "state=Ouargla<br>country=%{x}<br>Count of Images=%{y}<extra></extra>",
         "legendgroup": "Ouargla",
         "marker": {
          "color": "#EF553B",
          "pattern": {
           "shape": ""
          }
         },
         "name": "Ouargla",
         "offsetgroup": "Ouargla",
         "orientation": "v",
         "showlegend": true,
         "textposition": "auto",
         "type": "bar",
         "x": [
          "Algérie ⵍⵣⵣⴰⵢⴻⵔ الجزائر"
         ],
         "xaxis": "x",
         "y": [
          41
         ],
         "yaxis": "y"
        },
        {
         "alignmentgroup": "True",
         "hovertemplate": "state=Ghardaïa<br>country=%{x}<br>Count of Images=%{y}<extra></extra>",
         "legendgroup": "Ghardaïa",
         "marker": {
          "color": "#00cc96",
          "pattern": {
           "shape": ""
          }
         },
         "name": "Ghardaïa",
         "offsetgroup": "Ghardaïa",
         "orientation": "v",
         "showlegend": true,
         "textposition": "auto",
         "type": "bar",
         "x": [
          "Algérie ⵍⵣⵣⴰⵢⴻⵔ الجزائر"
         ],
         "xaxis": "x",
         "y": [
          11
         ],
         "yaxis": "y"
        },
        {
         "alignmentgroup": "True",
         "hovertemplate": "state=Adrar<br>country=%{x}<br>Count of Images=%{y}<extra></extra>",
         "legendgroup": "Adrar",
         "marker": {
          "color": "#ab63fa",
          "pattern": {
           "shape": ""
          }
         },
         "name": "Adrar",
         "offsetgroup": "Adrar",
         "orientation": "v",
         "showlegend": true,
         "textposition": "auto",
         "type": "bar",
         "x": [
          "Algérie ⵍⵣⵣⴰⵢⴻⵔ الجزائر"
         ],
         "xaxis": "x",
         "y": [
          1
         ],
         "yaxis": "y"
        },
        {
         "alignmentgroup": "True",
         "hovertemplate": "state=Balkan welaýaty<br>country=%{x}<br>Count of Images=%{y}<extra></extra>",
         "legendgroup": "Balkan welaýaty",
         "marker": {
          "color": "#FFA15A",
          "pattern": {
           "shape": ""
          }
         },
         "name": "Balkan welaýaty",
         "offsetgroup": "Balkan welaýaty",
         "orientation": "v",
         "showlegend": true,
         "textposition": "auto",
         "type": "bar",
         "x": [
          "Türkmenistan"
         ],
         "xaxis": "x",
         "y": [
          24
         ],
         "yaxis": "y"
        },
        {
         "alignmentgroup": "True",
         "hovertemplate": "state=Lebap welaýaty<br>country=%{x}<br>Count of Images=%{y}<extra></extra>",
         "legendgroup": "Lebap welaýaty",
         "marker": {
          "color": "#19d3f3",
          "pattern": {
           "shape": ""
          }
         },
         "name": "Lebap welaýaty",
         "offsetgroup": "Lebap welaýaty",
         "orientation": "v",
         "showlegend": true,
         "textposition": "auto",
         "type": "bar",
         "x": [
          "Türkmenistan"
         ],
         "xaxis": "x",
         "y": [
          6
         ],
         "yaxis": "y"
        },
        {
         "alignmentgroup": "True",
         "hovertemplate": "state=Mary welaýaty<br>country=%{x}<br>Count of Images=%{y}<extra></extra>",
         "legendgroup": "Mary welaýaty",
         "marker": {
          "color": "#FF6692",
          "pattern": {
           "shape": ""
          }
         },
         "name": "Mary welaýaty",
         "offsetgroup": "Mary welaýaty",
         "orientation": "v",
         "showlegend": true,
         "textposition": "auto",
         "type": "bar",
         "x": [
          "Türkmenistan"
         ],
         "xaxis": "x",
         "y": [
          1
         ],
         "yaxis": "y"
        },
        {
         "alignmentgroup": "True",
         "hovertemplate": "state=Texas<br>country=%{x}<br>Count of Images=%{y}<extra></extra>",
         "legendgroup": "Texas",
         "marker": {
          "color": "#B6E880",
          "pattern": {
           "shape": ""
          }
         },
         "name": "Texas",
         "offsetgroup": "Texas",
         "orientation": "v",
         "showlegend": true,
         "textposition": "auto",
         "type": "bar",
         "x": [
          "United States"
         ],
         "xaxis": "x",
         "y": [
          14
         ],
         "yaxis": "y"
        },
        {
         "alignmentgroup": "True",
         "hovertemplate": "state=New Mexico<br>country=%{x}<br>Count of Images=%{y}<extra></extra>",
         "legendgroup": "New Mexico",
         "marker": {
          "color": "#FF97FF",
          "pattern": {
           "shape": ""
          }
         },
         "name": "New Mexico",
         "offsetgroup": "New Mexico",
         "orientation": "v",
         "showlegend": true,
         "textposition": "auto",
         "type": "bar",
         "x": [
          "United States"
         ],
         "xaxis": "x",
         "y": [
          1
         ],
         "yaxis": "y"
        }
       ],
       "layout": {
        "barmode": "stack",
        "legend": {
         "title": {
          "text": "state"
         },
         "tracegroupgap": 0
        },
        "template": {
         "data": {
          "bar": [
           {
            "error_x": {
             "color": "#2a3f5f"
            },
            "error_y": {
             "color": "#2a3f5f"
            },
            "marker": {
             "line": {
              "color": "#E5ECF6",
              "width": 0.5
             },
             "pattern": {
              "fillmode": "overlay",
              "size": 10,
              "solidity": 0.2
             }
            },
            "type": "bar"
           }
          ],
          "barpolar": [
           {
            "marker": {
             "line": {
              "color": "#E5ECF6",
              "width": 0.5
             },
             "pattern": {
              "fillmode": "overlay",
              "size": 10,
              "solidity": 0.2
             }
            },
            "type": "barpolar"
           }
          ],
          "carpet": [
           {
            "aaxis": {
             "endlinecolor": "#2a3f5f",
             "gridcolor": "white",
             "linecolor": "white",
             "minorgridcolor": "white",
             "startlinecolor": "#2a3f5f"
            },
            "baxis": {
             "endlinecolor": "#2a3f5f",
             "gridcolor": "white",
             "linecolor": "white",
             "minorgridcolor": "white",
             "startlinecolor": "#2a3f5f"
            },
            "type": "carpet"
           }
          ],
          "choropleth": [
           {
            "colorbar": {
             "outlinewidth": 0,
             "ticks": ""
            },
            "type": "choropleth"
           }
          ],
          "contour": [
           {
            "colorbar": {
             "outlinewidth": 0,
             "ticks": ""
            },
            "colorscale": [
             [
              0,
              "#0d0887"
             ],
             [
              0.1111111111111111,
              "#46039f"
             ],
             [
              0.2222222222222222,
              "#7201a8"
             ],
             [
              0.3333333333333333,
              "#9c179e"
             ],
             [
              0.4444444444444444,
              "#bd3786"
             ],
             [
              0.5555555555555556,
              "#d8576b"
             ],
             [
              0.6666666666666666,
              "#ed7953"
             ],
             [
              0.7777777777777778,
              "#fb9f3a"
             ],
             [
              0.8888888888888888,
              "#fdca26"
             ],
             [
              1,
              "#f0f921"
             ]
            ],
            "type": "contour"
           }
          ],
          "contourcarpet": [
           {
            "colorbar": {
             "outlinewidth": 0,
             "ticks": ""
            },
            "type": "contourcarpet"
           }
          ],
          "heatmap": [
           {
            "colorbar": {
             "outlinewidth": 0,
             "ticks": ""
            },
            "colorscale": [
             [
              0,
              "#0d0887"
             ],
             [
              0.1111111111111111,
              "#46039f"
             ],
             [
              0.2222222222222222,
              "#7201a8"
             ],
             [
              0.3333333333333333,
              "#9c179e"
             ],
             [
              0.4444444444444444,
              "#bd3786"
             ],
             [
              0.5555555555555556,
              "#d8576b"
             ],
             [
              0.6666666666666666,
              "#ed7953"
             ],
             [
              0.7777777777777778,
              "#fb9f3a"
             ],
             [
              0.8888888888888888,
              "#fdca26"
             ],
             [
              1,
              "#f0f921"
             ]
            ],
            "type": "heatmap"
           }
          ],
          "heatmapgl": [
           {
            "colorbar": {
             "outlinewidth": 0,
             "ticks": ""
            },
            "colorscale": [
             [
              0,
              "#0d0887"
             ],
             [
              0.1111111111111111,
              "#46039f"
             ],
             [
              0.2222222222222222,
              "#7201a8"
             ],
             [
              0.3333333333333333,
              "#9c179e"
             ],
             [
              0.4444444444444444,
              "#bd3786"
             ],
             [
              0.5555555555555556,
              "#d8576b"
             ],
             [
              0.6666666666666666,
              "#ed7953"
             ],
             [
              0.7777777777777778,
              "#fb9f3a"
             ],
             [
              0.8888888888888888,
              "#fdca26"
             ],
             [
              1,
              "#f0f921"
             ]
            ],
            "type": "heatmapgl"
           }
          ],
          "histogram": [
           {
            "marker": {
             "pattern": {
              "fillmode": "overlay",
              "size": 10,
              "solidity": 0.2
             }
            },
            "type": "histogram"
           }
          ],
          "histogram2d": [
           {
            "colorbar": {
             "outlinewidth": 0,
             "ticks": ""
            },
            "colorscale": [
             [
              0,
              "#0d0887"
             ],
             [
              0.1111111111111111,
              "#46039f"
             ],
             [
              0.2222222222222222,
              "#7201a8"
             ],
             [
              0.3333333333333333,
              "#9c179e"
             ],
             [
              0.4444444444444444,
              "#bd3786"
             ],
             [
              0.5555555555555556,
              "#d8576b"
             ],
             [
              0.6666666666666666,
              "#ed7953"
             ],
             [
              0.7777777777777778,
              "#fb9f3a"
             ],
             [
              0.8888888888888888,
              "#fdca26"
             ],
             [
              1,
              "#f0f921"
             ]
            ],
            "type": "histogram2d"
           }
          ],
          "histogram2dcontour": [
           {
            "colorbar": {
             "outlinewidth": 0,
             "ticks": ""
            },
            "colorscale": [
             [
              0,
              "#0d0887"
             ],
             [
              0.1111111111111111,
              "#46039f"
             ],
             [
              0.2222222222222222,
              "#7201a8"
             ],
             [
              0.3333333333333333,
              "#9c179e"
             ],
             [
              0.4444444444444444,
              "#bd3786"
             ],
             [
              0.5555555555555556,
              "#d8576b"
             ],
             [
              0.6666666666666666,
              "#ed7953"
             ],
             [
              0.7777777777777778,
              "#fb9f3a"
             ],
             [
              0.8888888888888888,
              "#fdca26"
             ],
             [
              1,
              "#f0f921"
             ]
            ],
            "type": "histogram2dcontour"
           }
          ],
          "mesh3d": [
           {
            "colorbar": {
             "outlinewidth": 0,
             "ticks": ""
            },
            "type": "mesh3d"
           }
          ],
          "parcoords": [
           {
            "line": {
             "colorbar": {
              "outlinewidth": 0,
              "ticks": ""
             }
            },
            "type": "parcoords"
           }
          ],
          "pie": [
           {
            "automargin": true,
            "type": "pie"
           }
          ],
          "scatter": [
           {
            "fillpattern": {
             "fillmode": "overlay",
             "size": 10,
             "solidity": 0.2
            },
            "type": "scatter"
           }
          ],
          "scatter3d": [
           {
            "line": {
             "colorbar": {
              "outlinewidth": 0,
              "ticks": ""
             }
            },
            "marker": {
             "colorbar": {
              "outlinewidth": 0,
              "ticks": ""
             }
            },
            "type": "scatter3d"
           }
          ],
          "scattercarpet": [
           {
            "marker": {
             "colorbar": {
              "outlinewidth": 0,
              "ticks": ""
             }
            },
            "type": "scattercarpet"
           }
          ],
          "scattergeo": [
           {
            "marker": {
             "colorbar": {
              "outlinewidth": 0,
              "ticks": ""
             }
            },
            "type": "scattergeo"
           }
          ],
          "scattergl": [
           {
            "marker": {
             "colorbar": {
              "outlinewidth": 0,
              "ticks": ""
             }
            },
            "type": "scattergl"
           }
          ],
          "scattermapbox": [
           {
            "marker": {
             "colorbar": {
              "outlinewidth": 0,
              "ticks": ""
             }
            },
            "type": "scattermapbox"
           }
          ],
          "scatterpolar": [
           {
            "marker": {
             "colorbar": {
              "outlinewidth": 0,
              "ticks": ""
             }
            },
            "type": "scatterpolar"
           }
          ],
          "scatterpolargl": [
           {
            "marker": {
             "colorbar": {
              "outlinewidth": 0,
              "ticks": ""
             }
            },
            "type": "scatterpolargl"
           }
          ],
          "scatterternary": [
           {
            "marker": {
             "colorbar": {
              "outlinewidth": 0,
              "ticks": ""
             }
            },
            "type": "scatterternary"
           }
          ],
          "surface": [
           {
            "colorbar": {
             "outlinewidth": 0,
             "ticks": ""
            },
            "colorscale": [
             [
              0,
              "#0d0887"
             ],
             [
              0.1111111111111111,
              "#46039f"
             ],
             [
              0.2222222222222222,
              "#7201a8"
             ],
             [
              0.3333333333333333,
              "#9c179e"
             ],
             [
              0.4444444444444444,
              "#bd3786"
             ],
             [
              0.5555555555555556,
              "#d8576b"
             ],
             [
              0.6666666666666666,
              "#ed7953"
             ],
             [
              0.7777777777777778,
              "#fb9f3a"
             ],
             [
              0.8888888888888888,
              "#fdca26"
             ],
             [
              1,
              "#f0f921"
             ]
            ],
            "type": "surface"
           }
          ],
          "table": [
           {
            "cells": {
             "fill": {
              "color": "#EBF0F8"
             },
             "line": {
              "color": "white"
             }
            },
            "header": {
             "fill": {
              "color": "#C8D4E3"
             },
             "line": {
              "color": "white"
             }
            },
            "type": "table"
           }
          ]
         },
         "layout": {
          "annotationdefaults": {
           "arrowcolor": "#2a3f5f",
           "arrowhead": 0,
           "arrowwidth": 1
          },
          "autotypenumbers": "strict",
          "coloraxis": {
           "colorbar": {
            "outlinewidth": 0,
            "ticks": ""
           }
          },
          "colorscale": {
           "diverging": [
            [
             0,
             "#8e0152"
            ],
            [
             0.1,
             "#c51b7d"
            ],
            [
             0.2,
             "#de77ae"
            ],
            [
             0.3,
             "#f1b6da"
            ],
            [
             0.4,
             "#fde0ef"
            ],
            [
             0.5,
             "#f7f7f7"
            ],
            [
             0.6,
             "#e6f5d0"
            ],
            [
             0.7,
             "#b8e186"
            ],
            [
             0.8,
             "#7fbc41"
            ],
            [
             0.9,
             "#4d9221"
            ],
            [
             1,
             "#276419"
            ]
           ],
           "sequential": [
            [
             0,
             "#0d0887"
            ],
            [
             0.1111111111111111,
             "#46039f"
            ],
            [
             0.2222222222222222,
             "#7201a8"
            ],
            [
             0.3333333333333333,
             "#9c179e"
            ],
            [
             0.4444444444444444,
             "#bd3786"
            ],
            [
             0.5555555555555556,
             "#d8576b"
            ],
            [
             0.6666666666666666,
             "#ed7953"
            ],
            [
             0.7777777777777778,
             "#fb9f3a"
            ],
            [
             0.8888888888888888,
             "#fdca26"
            ],
            [
             1,
             "#f0f921"
            ]
           ],
           "sequentialminus": [
            [
             0,
             "#0d0887"
            ],
            [
             0.1111111111111111,
             "#46039f"
            ],
            [
             0.2222222222222222,
             "#7201a8"
            ],
            [
             0.3333333333333333,
             "#9c179e"
            ],
            [
             0.4444444444444444,
             "#bd3786"
            ],
            [
             0.5555555555555556,
             "#d8576b"
            ],
            [
             0.6666666666666666,
             "#ed7953"
            ],
            [
             0.7777777777777778,
             "#fb9f3a"
            ],
            [
             0.8888888888888888,
             "#fdca26"
            ],
            [
             1,
             "#f0f921"
            ]
           ]
          },
          "colorway": [
           "#636efa",
           "#EF553B",
           "#00cc96",
           "#ab63fa",
           "#FFA15A",
           "#19d3f3",
           "#FF6692",
           "#B6E880",
           "#FF97FF",
           "#FECB52"
          ],
          "font": {
           "color": "#2a3f5f"
          },
          "geo": {
           "bgcolor": "white",
           "lakecolor": "white",
           "landcolor": "#E5ECF6",
           "showlakes": true,
           "showland": true,
           "subunitcolor": "white"
          },
          "hoverlabel": {
           "align": "left"
          },
          "hovermode": "closest",
          "mapbox": {
           "style": "light"
          },
          "paper_bgcolor": "white",
          "plot_bgcolor": "#E5ECF6",
          "polar": {
           "angularaxis": {
            "gridcolor": "white",
            "linecolor": "white",
            "ticks": ""
           },
           "bgcolor": "#E5ECF6",
           "radialaxis": {
            "gridcolor": "white",
            "linecolor": "white",
            "ticks": ""
           }
          },
          "scene": {
           "xaxis": {
            "backgroundcolor": "#E5ECF6",
            "gridcolor": "white",
            "gridwidth": 2,
            "linecolor": "white",
            "showbackground": true,
            "ticks": "",
            "zerolinecolor": "white"
           },
           "yaxis": {
            "backgroundcolor": "#E5ECF6",
            "gridcolor": "white",
            "gridwidth": 2,
            "linecolor": "white",
            "showbackground": true,
            "ticks": "",
            "zerolinecolor": "white"
           },
           "zaxis": {
            "backgroundcolor": "#E5ECF6",
            "gridcolor": "white",
            "gridwidth": 2,
            "linecolor": "white",
            "showbackground": true,
            "ticks": "",
            "zerolinecolor": "white"
           }
          },
          "shapedefaults": {
           "line": {
            "color": "#2a3f5f"
           }
          },
          "ternary": {
           "aaxis": {
            "gridcolor": "white",
            "linecolor": "white",
            "ticks": ""
           },
           "baxis": {
            "gridcolor": "white",
            "linecolor": "white",
            "ticks": ""
           },
           "bgcolor": "#E5ECF6",
           "caxis": {
            "gridcolor": "white",
            "linecolor": "white",
            "ticks": ""
           }
          },
          "title": {
           "x": 0.05
          },
          "xaxis": {
           "automargin": true,
           "gridcolor": "white",
           "linecolor": "white",
           "ticks": "",
           "title": {
            "standoff": 15
           },
           "zerolinecolor": "white",
           "zerolinewidth": 2
          },
          "yaxis": {
           "automargin": true,
           "gridcolor": "white",
           "linecolor": "white",
           "ticks": "",
           "title": {
            "standoff": 15
           },
           "zerolinecolor": "white",
           "zerolinewidth": 2
          }
         }
        },
        "title": {
         "text": "Count of Images by Country and State (Test set)"
        },
        "xaxis": {
         "anchor": "y",
         "domain": [
          0,
          1
         ],
         "title": {
          "text": "country"
         }
        },
        "yaxis": {
         "anchor": "x",
         "domain": [
          0,
          1
         ],
         "title": {
          "text": "Count of Images"
         }
        }
       }
      }
     },
     "metadata": {},
     "output_type": "display_data"
    }
   ],
   "source": [
    "dict_images_by_state_test = images_by_country_and_state(stations_info_test, print_results=False,\n",
    "                                                       )\n",
    "stacked_bar_images_bycountry_state(dict_images_by_state_test,  title = \"Count of Images by Country and State (Test set)\")"
   ]
  },
  {
   "cell_type": "markdown",
   "metadata": {},
   "source": [
    "## Subdataset: Train"
   ]
  },
  {
   "cell_type": "code",
   "execution_count": 114,
   "metadata": {},
   "outputs": [
    {
     "name": "stdout",
     "output_type": "stream",
     "text": [
      "Columns: Index(['country', 'state', 'count_images'], dtype='object')\n"
     ]
    },
    {
     "data": {
      "application/vnd.plotly.v1+json": {
       "config": {
        "plotlyServerURL": "https://plot.ly"
       },
       "data": [
        {
         "alignmentgroup": "True",
         "hovertemplate": "state=Ouargla<br>country=%{x}<br>Count of Images=%{y}<extra></extra>",
         "legendgroup": "Ouargla",
         "marker": {
          "color": "#636efa",
          "pattern": {
           "shape": ""
          }
         },
         "name": "Ouargla",
         "offsetgroup": "Ouargla",
         "orientation": "v",
         "showlegend": true,
         "textposition": "auto",
         "type": "bar",
         "x": [
          "Algérie ⵍⵣⵣⴰⵢⴻⵔ الجزائر"
         ],
         "xaxis": "x",
         "y": [
          20
         ],
         "yaxis": "y"
        },
        {
         "alignmentgroup": "True",
         "hovertemplate": "state=Ghardaïa<br>country=%{x}<br>Count of Images=%{y}<extra></extra>",
         "legendgroup": "Ghardaïa",
         "marker": {
          "color": "#EF553B",
          "pattern": {
           "shape": ""
          }
         },
         "name": "Ghardaïa",
         "offsetgroup": "Ghardaïa",
         "orientation": "v",
         "showlegend": true,
         "textposition": "auto",
         "type": "bar",
         "x": [
          "Algérie ⵍⵣⵣⴰⵢⴻⵔ الجزائر"
         ],
         "xaxis": "x",
         "y": [
          20
         ],
         "yaxis": "y"
        },
        {
         "alignmentgroup": "True",
         "hovertemplate": "state=Illizi<br>country=%{x}<br>Count of Images=%{y}<extra></extra>",
         "legendgroup": "Illizi",
         "marker": {
          "color": "#00cc96",
          "pattern": {
           "shape": ""
          }
         },
         "name": "Illizi",
         "offsetgroup": "Illizi",
         "orientation": "v",
         "showlegend": true,
         "textposition": "auto",
         "type": "bar",
         "x": [
          "Algérie ⵍⵣⵣⴰⵢⴻⵔ الجزائر"
         ],
         "xaxis": "x",
         "y": [
          20
         ],
         "yaxis": "y"
        },
        {
         "alignmentgroup": "True",
         "hovertemplate": "state=Adrar<br>country=%{x}<br>Count of Images=%{y}<extra></extra>",
         "legendgroup": "Adrar",
         "marker": {
          "color": "#ab63fa",
          "pattern": {
           "shape": ""
          }
         },
         "name": "Adrar",
         "offsetgroup": "Adrar",
         "orientation": "v",
         "showlegend": true,
         "textposition": "auto",
         "type": "bar",
         "x": [
          "Algérie ⵍⵣⵣⴰⵢⴻⵔ الجزائر"
         ],
         "xaxis": "x",
         "y": [
          10
         ],
         "yaxis": "y"
        },
        {
         "alignmentgroup": "True",
         "hovertemplate": "state=Balkan welaýaty<br>country=%{x}<br>Count of Images=%{y}<extra></extra>",
         "legendgroup": "Balkan welaýaty",
         "marker": {
          "color": "#FFA15A",
          "pattern": {
           "shape": ""
          }
         },
         "name": "Balkan welaýaty",
         "offsetgroup": "Balkan welaýaty",
         "orientation": "v",
         "showlegend": true,
         "textposition": "auto",
         "type": "bar",
         "x": [
          "Türkmenistan"
         ],
         "xaxis": "x",
         "y": [
          30
         ],
         "yaxis": "y"
        },
        {
         "alignmentgroup": "True",
         "hovertemplate": "state=Lebap welaýaty<br>country=%{x}<br>Count of Images=%{y}<extra></extra>",
         "legendgroup": "Lebap welaýaty",
         "marker": {
          "color": "#19d3f3",
          "pattern": {
           "shape": ""
          }
         },
         "name": "Lebap welaýaty",
         "offsetgroup": "Lebap welaýaty",
         "orientation": "v",
         "showlegend": true,
         "textposition": "auto",
         "type": "bar",
         "x": [
          "Türkmenistan"
         ],
         "xaxis": "x",
         "y": [
          20
         ],
         "yaxis": "y"
        },
        {
         "alignmentgroup": "True",
         "hovertemplate": "state=Mary welaýaty<br>country=%{x}<br>Count of Images=%{y}<extra></extra>",
         "legendgroup": "Mary welaýaty",
         "marker": {
          "color": "#FF6692",
          "pattern": {
           "shape": ""
          }
         },
         "name": "Mary welaýaty",
         "offsetgroup": "Mary welaýaty",
         "orientation": "v",
         "showlegend": true,
         "textposition": "auto",
         "type": "bar",
         "x": [
          "Türkmenistan"
         ],
         "xaxis": "x",
         "y": [
          20
         ],
         "yaxis": "y"
        },
        {
         "alignmentgroup": "True",
         "hovertemplate": "state=Texas<br>country=%{x}<br>Count of Images=%{y}<extra></extra>",
         "legendgroup": "Texas",
         "marker": {
          "color": "#B6E880",
          "pattern": {
           "shape": ""
          }
         },
         "name": "Texas",
         "offsetgroup": "Texas",
         "orientation": "v",
         "showlegend": true,
         "textposition": "auto",
         "type": "bar",
         "x": [
          "United States"
         ],
         "xaxis": "x",
         "y": [
          35
         ],
         "yaxis": "y"
        },
        {
         "alignmentgroup": "True",
         "hovertemplate": "state=Colorado<br>country=%{x}<br>Count of Images=%{y}<extra></extra>",
         "legendgroup": "Colorado",
         "marker": {
          "color": "#FF97FF",
          "pattern": {
           "shape": ""
          }
         },
         "name": "Colorado",
         "offsetgroup": "Colorado",
         "orientation": "v",
         "showlegend": true,
         "textposition": "auto",
         "type": "bar",
         "x": [
          "United States"
         ],
         "xaxis": "x",
         "y": [
          15
         ],
         "yaxis": "y"
        },
        {
         "alignmentgroup": "True",
         "hovertemplate": "state=Georgia<br>country=%{x}<br>Count of Images=%{y}<extra></extra>",
         "legendgroup": "Georgia",
         "marker": {
          "color": "#FECB52",
          "pattern": {
           "shape": ""
          }
         },
         "name": "Georgia",
         "offsetgroup": "Georgia",
         "orientation": "v",
         "showlegend": true,
         "textposition": "auto",
         "type": "bar",
         "x": [
          "United States"
         ],
         "xaxis": "x",
         "y": [
          5
         ],
         "yaxis": "y"
        },
        {
         "alignmentgroup": "True",
         "hovertemplate": "state=Kansas<br>country=%{x}<br>Count of Images=%{y}<extra></extra>",
         "legendgroup": "Kansas",
         "marker": {
          "color": "#636efa",
          "pattern": {
           "shape": ""
          }
         },
         "name": "Kansas",
         "offsetgroup": "Kansas",
         "orientation": "v",
         "showlegend": true,
         "textposition": "auto",
         "type": "bar",
         "x": [
          "United States"
         ],
         "xaxis": "x",
         "y": [
          5
         ],
         "yaxis": "y"
        }
       ],
       "layout": {
        "barmode": "stack",
        "legend": {
         "title": {
          "text": "state"
         },
         "tracegroupgap": 0
        },
        "template": {
         "data": {
          "bar": [
           {
            "error_x": {
             "color": "#2a3f5f"
            },
            "error_y": {
             "color": "#2a3f5f"
            },
            "marker": {
             "line": {
              "color": "#E5ECF6",
              "width": 0.5
             },
             "pattern": {
              "fillmode": "overlay",
              "size": 10,
              "solidity": 0.2
             }
            },
            "type": "bar"
           }
          ],
          "barpolar": [
           {
            "marker": {
             "line": {
              "color": "#E5ECF6",
              "width": 0.5
             },
             "pattern": {
              "fillmode": "overlay",
              "size": 10,
              "solidity": 0.2
             }
            },
            "type": "barpolar"
           }
          ],
          "carpet": [
           {
            "aaxis": {
             "endlinecolor": "#2a3f5f",
             "gridcolor": "white",
             "linecolor": "white",
             "minorgridcolor": "white",
             "startlinecolor": "#2a3f5f"
            },
            "baxis": {
             "endlinecolor": "#2a3f5f",
             "gridcolor": "white",
             "linecolor": "white",
             "minorgridcolor": "white",
             "startlinecolor": "#2a3f5f"
            },
            "type": "carpet"
           }
          ],
          "choropleth": [
           {
            "colorbar": {
             "outlinewidth": 0,
             "ticks": ""
            },
            "type": "choropleth"
           }
          ],
          "contour": [
           {
            "colorbar": {
             "outlinewidth": 0,
             "ticks": ""
            },
            "colorscale": [
             [
              0,
              "#0d0887"
             ],
             [
              0.1111111111111111,
              "#46039f"
             ],
             [
              0.2222222222222222,
              "#7201a8"
             ],
             [
              0.3333333333333333,
              "#9c179e"
             ],
             [
              0.4444444444444444,
              "#bd3786"
             ],
             [
              0.5555555555555556,
              "#d8576b"
             ],
             [
              0.6666666666666666,
              "#ed7953"
             ],
             [
              0.7777777777777778,
              "#fb9f3a"
             ],
             [
              0.8888888888888888,
              "#fdca26"
             ],
             [
              1,
              "#f0f921"
             ]
            ],
            "type": "contour"
           }
          ],
          "contourcarpet": [
           {
            "colorbar": {
             "outlinewidth": 0,
             "ticks": ""
            },
            "type": "contourcarpet"
           }
          ],
          "heatmap": [
           {
            "colorbar": {
             "outlinewidth": 0,
             "ticks": ""
            },
            "colorscale": [
             [
              0,
              "#0d0887"
             ],
             [
              0.1111111111111111,
              "#46039f"
             ],
             [
              0.2222222222222222,
              "#7201a8"
             ],
             [
              0.3333333333333333,
              "#9c179e"
             ],
             [
              0.4444444444444444,
              "#bd3786"
             ],
             [
              0.5555555555555556,
              "#d8576b"
             ],
             [
              0.6666666666666666,
              "#ed7953"
             ],
             [
              0.7777777777777778,
              "#fb9f3a"
             ],
             [
              0.8888888888888888,
              "#fdca26"
             ],
             [
              1,
              "#f0f921"
             ]
            ],
            "type": "heatmap"
           }
          ],
          "heatmapgl": [
           {
            "colorbar": {
             "outlinewidth": 0,
             "ticks": ""
            },
            "colorscale": [
             [
              0,
              "#0d0887"
             ],
             [
              0.1111111111111111,
              "#46039f"
             ],
             [
              0.2222222222222222,
              "#7201a8"
             ],
             [
              0.3333333333333333,
              "#9c179e"
             ],
             [
              0.4444444444444444,
              "#bd3786"
             ],
             [
              0.5555555555555556,
              "#d8576b"
             ],
             [
              0.6666666666666666,
              "#ed7953"
             ],
             [
              0.7777777777777778,
              "#fb9f3a"
             ],
             [
              0.8888888888888888,
              "#fdca26"
             ],
             [
              1,
              "#f0f921"
             ]
            ],
            "type": "heatmapgl"
           }
          ],
          "histogram": [
           {
            "marker": {
             "pattern": {
              "fillmode": "overlay",
              "size": 10,
              "solidity": 0.2
             }
            },
            "type": "histogram"
           }
          ],
          "histogram2d": [
           {
            "colorbar": {
             "outlinewidth": 0,
             "ticks": ""
            },
            "colorscale": [
             [
              0,
              "#0d0887"
             ],
             [
              0.1111111111111111,
              "#46039f"
             ],
             [
              0.2222222222222222,
              "#7201a8"
             ],
             [
              0.3333333333333333,
              "#9c179e"
             ],
             [
              0.4444444444444444,
              "#bd3786"
             ],
             [
              0.5555555555555556,
              "#d8576b"
             ],
             [
              0.6666666666666666,
              "#ed7953"
             ],
             [
              0.7777777777777778,
              "#fb9f3a"
             ],
             [
              0.8888888888888888,
              "#fdca26"
             ],
             [
              1,
              "#f0f921"
             ]
            ],
            "type": "histogram2d"
           }
          ],
          "histogram2dcontour": [
           {
            "colorbar": {
             "outlinewidth": 0,
             "ticks": ""
            },
            "colorscale": [
             [
              0,
              "#0d0887"
             ],
             [
              0.1111111111111111,
              "#46039f"
             ],
             [
              0.2222222222222222,
              "#7201a8"
             ],
             [
              0.3333333333333333,
              "#9c179e"
             ],
             [
              0.4444444444444444,
              "#bd3786"
             ],
             [
              0.5555555555555556,
              "#d8576b"
             ],
             [
              0.6666666666666666,
              "#ed7953"
             ],
             [
              0.7777777777777778,
              "#fb9f3a"
             ],
             [
              0.8888888888888888,
              "#fdca26"
             ],
             [
              1,
              "#f0f921"
             ]
            ],
            "type": "histogram2dcontour"
           }
          ],
          "mesh3d": [
           {
            "colorbar": {
             "outlinewidth": 0,
             "ticks": ""
            },
            "type": "mesh3d"
           }
          ],
          "parcoords": [
           {
            "line": {
             "colorbar": {
              "outlinewidth": 0,
              "ticks": ""
             }
            },
            "type": "parcoords"
           }
          ],
          "pie": [
           {
            "automargin": true,
            "type": "pie"
           }
          ],
          "scatter": [
           {
            "fillpattern": {
             "fillmode": "overlay",
             "size": 10,
             "solidity": 0.2
            },
            "type": "scatter"
           }
          ],
          "scatter3d": [
           {
            "line": {
             "colorbar": {
              "outlinewidth": 0,
              "ticks": ""
             }
            },
            "marker": {
             "colorbar": {
              "outlinewidth": 0,
              "ticks": ""
             }
            },
            "type": "scatter3d"
           }
          ],
          "scattercarpet": [
           {
            "marker": {
             "colorbar": {
              "outlinewidth": 0,
              "ticks": ""
             }
            },
            "type": "scattercarpet"
           }
          ],
          "scattergeo": [
           {
            "marker": {
             "colorbar": {
              "outlinewidth": 0,
              "ticks": ""
             }
            },
            "type": "scattergeo"
           }
          ],
          "scattergl": [
           {
            "marker": {
             "colorbar": {
              "outlinewidth": 0,
              "ticks": ""
             }
            },
            "type": "scattergl"
           }
          ],
          "scattermapbox": [
           {
            "marker": {
             "colorbar": {
              "outlinewidth": 0,
              "ticks": ""
             }
            },
            "type": "scattermapbox"
           }
          ],
          "scatterpolar": [
           {
            "marker": {
             "colorbar": {
              "outlinewidth": 0,
              "ticks": ""
             }
            },
            "type": "scatterpolar"
           }
          ],
          "scatterpolargl": [
           {
            "marker": {
             "colorbar": {
              "outlinewidth": 0,
              "ticks": ""
             }
            },
            "type": "scatterpolargl"
           }
          ],
          "scatterternary": [
           {
            "marker": {
             "colorbar": {
              "outlinewidth": 0,
              "ticks": ""
             }
            },
            "type": "scatterternary"
           }
          ],
          "surface": [
           {
            "colorbar": {
             "outlinewidth": 0,
             "ticks": ""
            },
            "colorscale": [
             [
              0,
              "#0d0887"
             ],
             [
              0.1111111111111111,
              "#46039f"
             ],
             [
              0.2222222222222222,
              "#7201a8"
             ],
             [
              0.3333333333333333,
              "#9c179e"
             ],
             [
              0.4444444444444444,
              "#bd3786"
             ],
             [
              0.5555555555555556,
              "#d8576b"
             ],
             [
              0.6666666666666666,
              "#ed7953"
             ],
             [
              0.7777777777777778,
              "#fb9f3a"
             ],
             [
              0.8888888888888888,
              "#fdca26"
             ],
             [
              1,
              "#f0f921"
             ]
            ],
            "type": "surface"
           }
          ],
          "table": [
           {
            "cells": {
             "fill": {
              "color": "#EBF0F8"
             },
             "line": {
              "color": "white"
             }
            },
            "header": {
             "fill": {
              "color": "#C8D4E3"
             },
             "line": {
              "color": "white"
             }
            },
            "type": "table"
           }
          ]
         },
         "layout": {
          "annotationdefaults": {
           "arrowcolor": "#2a3f5f",
           "arrowhead": 0,
           "arrowwidth": 1
          },
          "autotypenumbers": "strict",
          "coloraxis": {
           "colorbar": {
            "outlinewidth": 0,
            "ticks": ""
           }
          },
          "colorscale": {
           "diverging": [
            [
             0,
             "#8e0152"
            ],
            [
             0.1,
             "#c51b7d"
            ],
            [
             0.2,
             "#de77ae"
            ],
            [
             0.3,
             "#f1b6da"
            ],
            [
             0.4,
             "#fde0ef"
            ],
            [
             0.5,
             "#f7f7f7"
            ],
            [
             0.6,
             "#e6f5d0"
            ],
            [
             0.7,
             "#b8e186"
            ],
            [
             0.8,
             "#7fbc41"
            ],
            [
             0.9,
             "#4d9221"
            ],
            [
             1,
             "#276419"
            ]
           ],
           "sequential": [
            [
             0,
             "#0d0887"
            ],
            [
             0.1111111111111111,
             "#46039f"
            ],
            [
             0.2222222222222222,
             "#7201a8"
            ],
            [
             0.3333333333333333,
             "#9c179e"
            ],
            [
             0.4444444444444444,
             "#bd3786"
            ],
            [
             0.5555555555555556,
             "#d8576b"
            ],
            [
             0.6666666666666666,
             "#ed7953"
            ],
            [
             0.7777777777777778,
             "#fb9f3a"
            ],
            [
             0.8888888888888888,
             "#fdca26"
            ],
            [
             1,
             "#f0f921"
            ]
           ],
           "sequentialminus": [
            [
             0,
             "#0d0887"
            ],
            [
             0.1111111111111111,
             "#46039f"
            ],
            [
             0.2222222222222222,
             "#7201a8"
            ],
            [
             0.3333333333333333,
             "#9c179e"
            ],
            [
             0.4444444444444444,
             "#bd3786"
            ],
            [
             0.5555555555555556,
             "#d8576b"
            ],
            [
             0.6666666666666666,
             "#ed7953"
            ],
            [
             0.7777777777777778,
             "#fb9f3a"
            ],
            [
             0.8888888888888888,
             "#fdca26"
            ],
            [
             1,
             "#f0f921"
            ]
           ]
          },
          "colorway": [
           "#636efa",
           "#EF553B",
           "#00cc96",
           "#ab63fa",
           "#FFA15A",
           "#19d3f3",
           "#FF6692",
           "#B6E880",
           "#FF97FF",
           "#FECB52"
          ],
          "font": {
           "color": "#2a3f5f"
          },
          "geo": {
           "bgcolor": "white",
           "lakecolor": "white",
           "landcolor": "#E5ECF6",
           "showlakes": true,
           "showland": true,
           "subunitcolor": "white"
          },
          "hoverlabel": {
           "align": "left"
          },
          "hovermode": "closest",
          "mapbox": {
           "style": "light"
          },
          "paper_bgcolor": "white",
          "plot_bgcolor": "#E5ECF6",
          "polar": {
           "angularaxis": {
            "gridcolor": "white",
            "linecolor": "white",
            "ticks": ""
           },
           "bgcolor": "#E5ECF6",
           "radialaxis": {
            "gridcolor": "white",
            "linecolor": "white",
            "ticks": ""
           }
          },
          "scene": {
           "xaxis": {
            "backgroundcolor": "#E5ECF6",
            "gridcolor": "white",
            "gridwidth": 2,
            "linecolor": "white",
            "showbackground": true,
            "ticks": "",
            "zerolinecolor": "white"
           },
           "yaxis": {
            "backgroundcolor": "#E5ECF6",
            "gridcolor": "white",
            "gridwidth": 2,
            "linecolor": "white",
            "showbackground": true,
            "ticks": "",
            "zerolinecolor": "white"
           },
           "zaxis": {
            "backgroundcolor": "#E5ECF6",
            "gridcolor": "white",
            "gridwidth": 2,
            "linecolor": "white",
            "showbackground": true,
            "ticks": "",
            "zerolinecolor": "white"
           }
          },
          "shapedefaults": {
           "line": {
            "color": "#2a3f5f"
           }
          },
          "ternary": {
           "aaxis": {
            "gridcolor": "white",
            "linecolor": "white",
            "ticks": ""
           },
           "baxis": {
            "gridcolor": "white",
            "linecolor": "white",
            "ticks": ""
           },
           "bgcolor": "#E5ECF6",
           "caxis": {
            "gridcolor": "white",
            "linecolor": "white",
            "ticks": ""
           }
          },
          "title": {
           "x": 0.05
          },
          "xaxis": {
           "automargin": true,
           "gridcolor": "white",
           "linecolor": "white",
           "ticks": "",
           "title": {
            "standoff": 15
           },
           "zerolinecolor": "white",
           "zerolinewidth": 2
          },
          "yaxis": {
           "automargin": true,
           "gridcolor": "white",
           "linecolor": "white",
           "ticks": "",
           "title": {
            "standoff": 15
           },
           "zerolinecolor": "white",
           "zerolinewidth": 2
          }
         }
        },
        "title": {
         "text": "Count of Images by Country and State (Train subdataset)"
        },
        "xaxis": {
         "anchor": "y",
         "domain": [
          0,
          1
         ],
         "title": {
          "text": "country"
         }
        },
        "yaxis": {
         "anchor": "x",
         "domain": [
          0,
          1
         ],
         "title": {
          "text": "Count of Images"
         }
        }
       }
      }
     },
     "metadata": {},
     "output_type": "display_data"
    }
   ],
   "source": [
    "percentages_train_smaller = { 'Algérie ⵍⵣⵣⴰⵢⴻⵔ الجزائر' : \n",
    "                    {\n",
    "                        'Ouargla' : 20, \n",
    "                        'Ghardaïa' : 20, \n",
    "                        'Illizi' : 20, \n",
    "                        'Adrar' : 10 \n",
    "                        }, \n",
    "                    'Türkmenistan' : {'Balkan welaýaty' : 30,\n",
    "                                    'Lebap welaýaty' : 20, \n",
    "                                    'Mary welaýaty' : 20},\n",
    "                    'United States' : {'Texas': 35, \n",
    "                                    'Colorado': 15, \n",
    "                                    'Georgia': 5, \n",
    "                                    'Kansas': 5}\n",
    "                    }\n",
    "\n",
    "stacked_bar_images_bycountry_state(percentages_train_smaller,  title = \"Count of Images by Country and State (Train subdataset)\")\n",
    "\n"
   ]
  },
  {
   "cell_type": "markdown",
   "metadata": {},
   "source": [
    "## Input images visualizations"
   ]
  },
  {
   "cell_type": "code",
   "execution_count": 120,
   "metadata": {},
   "outputs": [
    {
     "data": {
      "image/png": "[encoded data removed]",
      "text/plain": [
       "<Figure size 1000x1200 with 15 Axes>"
      ]
     },
     "metadata": {},
     "output_type": "display_data"
    }
   ],
   "source": [
    "import rasterio as rio\n",
    "import numpy as np\n",
    "import matplotlib.pyplot as plt\n",
    "\n",
    "def plot_image_channels(input_image_path):\n",
    "    imgfile = rio.open(input_image_path, nodata = 0)\n",
    "    bands= [1,2,3,4,5,6,7,8,9,10,11,12,13]\n",
    "    imgdata = np.array([imgfile.read(i) for i in bands])\n",
    "\n",
    "    fig, axs = plt.subplots(5, 3, figsize=(10, 12))\n",
    "    row =0 \n",
    "    col= 0\n",
    "    for band in bands: \n",
    "\n",
    "        # Create a figure with 1 row and 2 columns for side-by-side plots\n",
    "        # Plot the input image (PNG)\n",
    "        axs[row][col].imshow(imgdata[band-1], cmap='gray', interpolation='nearest')\n",
    "        axs[row][col].set_title(f'Input Image - Band {band} ')\n",
    "        axs[row][col].axis('off')  # Hide the axis\n",
    "        col = col+1\n",
    "        if band % 3 ==0: \n",
    "            row= row+1\n",
    "            col=0\n",
    "        \n",
    "    # Show the plots\n",
    "    plt.tight_layout()\n",
    "    plt.show()\n",
    "\n",
    "input_image_path = 'data\\DataTrain\\input_tiles\\S2A_MSIL1C_20171031T101141_N0206_R022_T32SKA_20171031T135231_P352_2.tif'\n",
    "plot_image_channels(input_image_path)"
   ]
  },
  {
   "cell_type": "code",
   "execution_count": null,
   "metadata": {},
   "outputs": [],
   "source": []
  }
 ],
 "metadata": {
  "kernelspec": {
   "display_name": "womenium",
   "language": "python",
   "name": "python3"
  },
  "language_info": {
   "codemirror_mode": {
    "name": "ipython",
    "version": 3
   },
   "file_extension": ".py",
   "mimetype": "text/x-python",
   "name": "python",
   "nbconvert_exporter": "python",
   "pygments_lexer": "ipython3",
   "version": "3.9.16"
  }
 },
 "nbformat": 4,
 "nbformat_minor": 2
}
